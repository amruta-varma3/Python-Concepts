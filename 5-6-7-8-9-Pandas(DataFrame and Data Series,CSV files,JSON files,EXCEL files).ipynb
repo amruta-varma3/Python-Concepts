{
 "cells": [
  {
   "cell_type": "markdown",
   "metadata": {},
   "source": [
    "## Pandas Tutorial\n",
    "\n",
    "Pandas is an open source,BSD-licensed library providing high performance,easy-to-use data structures and data analysis tools for the python programming languages.\n",
    "\n",
    "Agenda\n",
    "- What is DataFrame\n",
    "- What is Data Series\n",
    "- Different operation in pandas"
   ]
  },
  {
   "cell_type": "code",
   "execution_count": 1,
   "metadata": {},
   "outputs": [],
   "source": [
    "import pandas as pd\n",
    "import numpy as np"
   ]
  },
  {
   "cell_type": "code",
   "execution_count": 2,
   "metadata": {},
   "outputs": [],
   "source": [
    "df = pd.DataFrame(np.arange(0,20).reshape(5,4),index=['Row1','Row2','Row3','Row4','Row5'],columns=['Column1','Column2','Columns3','Column4'])"
   ]
  },
  {
   "cell_type": "code",
   "execution_count": 3,
   "metadata": {},
   "outputs": [
    {
     "data": {
      "text/html": [
       "<div>\n",
       "<style scoped>\n",
       "    .dataframe tbody tr th:only-of-type {\n",
       "        vertical-align: middle;\n",
       "    }\n",
       "\n",
       "    .dataframe tbody tr th {\n",
       "        vertical-align: top;\n",
       "    }\n",
       "\n",
       "    .dataframe thead th {\n",
       "        text-align: right;\n",
       "    }\n",
       "</style>\n",
       "<table border=\"1\" class=\"dataframe\">\n",
       "  <thead>\n",
       "    <tr style=\"text-align: right;\">\n",
       "      <th></th>\n",
       "      <th>Column1</th>\n",
       "      <th>Column2</th>\n",
       "      <th>Columns3</th>\n",
       "      <th>Column4</th>\n",
       "    </tr>\n",
       "  </thead>\n",
       "  <tbody>\n",
       "    <tr>\n",
       "      <th>Row1</th>\n",
       "      <td>0</td>\n",
       "      <td>1</td>\n",
       "      <td>2</td>\n",
       "      <td>3</td>\n",
       "    </tr>\n",
       "    <tr>\n",
       "      <th>Row2</th>\n",
       "      <td>4</td>\n",
       "      <td>5</td>\n",
       "      <td>6</td>\n",
       "      <td>7</td>\n",
       "    </tr>\n",
       "    <tr>\n",
       "      <th>Row3</th>\n",
       "      <td>8</td>\n",
       "      <td>9</td>\n",
       "      <td>10</td>\n",
       "      <td>11</td>\n",
       "    </tr>\n",
       "    <tr>\n",
       "      <th>Row4</th>\n",
       "      <td>12</td>\n",
       "      <td>13</td>\n",
       "      <td>14</td>\n",
       "      <td>15</td>\n",
       "    </tr>\n",
       "    <tr>\n",
       "      <th>Row5</th>\n",
       "      <td>16</td>\n",
       "      <td>17</td>\n",
       "      <td>18</td>\n",
       "      <td>19</td>\n",
       "    </tr>\n",
       "  </tbody>\n",
       "</table>\n",
       "</div>"
      ],
      "text/plain": [
       "      Column1  Column2  Columns3  Column4\n",
       "Row1        0        1         2        3\n",
       "Row2        4        5         6        7\n",
       "Row3        8        9        10       11\n",
       "Row4       12       13        14       15\n",
       "Row5       16       17        18       19"
      ]
     },
     "execution_count": 3,
     "metadata": {},
     "output_type": "execute_result"
    }
   ],
   "source": [
    "df.head()"
   ]
  },
  {
   "cell_type": "code",
   "execution_count": 4,
   "metadata": {},
   "outputs": [],
   "source": [
    "df.to_csv('Test1')"
   ]
  },
  {
   "cell_type": "code",
   "execution_count": 5,
   "metadata": {},
   "outputs": [
    {
     "data": {
      "text/plain": [
       "Column1     0\n",
       "Column2     1\n",
       "Columns3    2\n",
       "Column4     3\n",
       "Name: Row1, dtype: int32"
      ]
     },
     "execution_count": 5,
     "metadata": {},
     "output_type": "execute_result"
    }
   ],
   "source": [
    "#Accesing the elements\n",
    "# 1..loc\n",
    "# 2 .iloc\n",
    "df.loc['Row1']"
   ]
  },
  {
   "cell_type": "code",
   "execution_count": 6,
   "metadata": {},
   "outputs": [
    {
     "data": {
      "text/plain": [
       "pandas.core.series.Series"
      ]
     },
     "execution_count": 6,
     "metadata": {},
     "output_type": "execute_result"
    }
   ],
   "source": [
    "type(df.loc[\"Row1\"])"
   ]
  },
  {
   "cell_type": "code",
   "execution_count": 7,
   "metadata": {},
   "outputs": [
    {
     "data": {
      "text/html": [
       "<div>\n",
       "<style scoped>\n",
       "    .dataframe tbody tr th:only-of-type {\n",
       "        vertical-align: middle;\n",
       "    }\n",
       "\n",
       "    .dataframe tbody tr th {\n",
       "        vertical-align: top;\n",
       "    }\n",
       "\n",
       "    .dataframe thead th {\n",
       "        text-align: right;\n",
       "    }\n",
       "</style>\n",
       "<table border=\"1\" class=\"dataframe\">\n",
       "  <thead>\n",
       "    <tr style=\"text-align: right;\">\n",
       "      <th></th>\n",
       "      <th>Column1</th>\n",
       "      <th>Column2</th>\n",
       "      <th>Columns3</th>\n",
       "      <th>Column4</th>\n",
       "    </tr>\n",
       "  </thead>\n",
       "  <tbody>\n",
       "    <tr>\n",
       "      <th>Row1</th>\n",
       "      <td>0</td>\n",
       "      <td>1</td>\n",
       "      <td>2</td>\n",
       "      <td>3</td>\n",
       "    </tr>\n",
       "    <tr>\n",
       "      <th>Row2</th>\n",
       "      <td>4</td>\n",
       "      <td>5</td>\n",
       "      <td>6</td>\n",
       "      <td>7</td>\n",
       "    </tr>\n",
       "    <tr>\n",
       "      <th>Row3</th>\n",
       "      <td>8</td>\n",
       "      <td>9</td>\n",
       "      <td>10</td>\n",
       "      <td>11</td>\n",
       "    </tr>\n",
       "    <tr>\n",
       "      <th>Row4</th>\n",
       "      <td>12</td>\n",
       "      <td>13</td>\n",
       "      <td>14</td>\n",
       "      <td>15</td>\n",
       "    </tr>\n",
       "    <tr>\n",
       "      <th>Row5</th>\n",
       "      <td>16</td>\n",
       "      <td>17</td>\n",
       "      <td>18</td>\n",
       "      <td>19</td>\n",
       "    </tr>\n",
       "  </tbody>\n",
       "</table>\n",
       "</div>"
      ],
      "text/plain": [
       "      Column1  Column2  Columns3  Column4\n",
       "Row1        0        1         2        3\n",
       "Row2        4        5         6        7\n",
       "Row3        8        9        10       11\n",
       "Row4       12       13        14       15\n",
       "Row5       16       17        18       19"
      ]
     },
     "execution_count": 7,
     "metadata": {},
     "output_type": "execute_result"
    }
   ],
   "source": [
    "df.iloc[:,:]"
   ]
  },
  {
   "cell_type": "code",
   "execution_count": 8,
   "metadata": {},
   "outputs": [
    {
     "data": {
      "text/html": [
       "<div>\n",
       "<style scoped>\n",
       "    .dataframe tbody tr th:only-of-type {\n",
       "        vertical-align: middle;\n",
       "    }\n",
       "\n",
       "    .dataframe tbody tr th {\n",
       "        vertical-align: top;\n",
       "    }\n",
       "\n",
       "    .dataframe thead th {\n",
       "        text-align: right;\n",
       "    }\n",
       "</style>\n",
       "<table border=\"1\" class=\"dataframe\">\n",
       "  <thead>\n",
       "    <tr style=\"text-align: right;\">\n",
       "      <th></th>\n",
       "      <th>Column2</th>\n",
       "      <th>Columns3</th>\n",
       "      <th>Column4</th>\n",
       "    </tr>\n",
       "  </thead>\n",
       "  <tbody>\n",
       "    <tr>\n",
       "      <th>Row1</th>\n",
       "      <td>1</td>\n",
       "      <td>2</td>\n",
       "      <td>3</td>\n",
       "    </tr>\n",
       "    <tr>\n",
       "      <th>Row2</th>\n",
       "      <td>5</td>\n",
       "      <td>6</td>\n",
       "      <td>7</td>\n",
       "    </tr>\n",
       "    <tr>\n",
       "      <th>Row3</th>\n",
       "      <td>9</td>\n",
       "      <td>10</td>\n",
       "      <td>11</td>\n",
       "    </tr>\n",
       "    <tr>\n",
       "      <th>Row4</th>\n",
       "      <td>13</td>\n",
       "      <td>14</td>\n",
       "      <td>15</td>\n",
       "    </tr>\n",
       "    <tr>\n",
       "      <th>Row5</th>\n",
       "      <td>17</td>\n",
       "      <td>18</td>\n",
       "      <td>19</td>\n",
       "    </tr>\n",
       "  </tbody>\n",
       "</table>\n",
       "</div>"
      ],
      "text/plain": [
       "      Column2  Columns3  Column4\n",
       "Row1        1         2        3\n",
       "Row2        5         6        7\n",
       "Row3        9        10       11\n",
       "Row4       13        14       15\n",
       "Row5       17        18       19"
      ]
     },
     "execution_count": 8,
     "metadata": {},
     "output_type": "execute_result"
    }
   ],
   "source": [
    "df.iloc[:,1:]"
   ]
  },
  {
   "cell_type": "code",
   "execution_count": 9,
   "metadata": {},
   "outputs": [
    {
     "data": {
      "text/html": [
       "<div>\n",
       "<style scoped>\n",
       "    .dataframe tbody tr th:only-of-type {\n",
       "        vertical-align: middle;\n",
       "    }\n",
       "\n",
       "    .dataframe tbody tr th {\n",
       "        vertical-align: top;\n",
       "    }\n",
       "\n",
       "    .dataframe thead th {\n",
       "        text-align: right;\n",
       "    }\n",
       "</style>\n",
       "<table border=\"1\" class=\"dataframe\">\n",
       "  <thead>\n",
       "    <tr style=\"text-align: right;\">\n",
       "      <th></th>\n",
       "      <th>Column1</th>\n",
       "      <th>Column2</th>\n",
       "    </tr>\n",
       "  </thead>\n",
       "  <tbody>\n",
       "    <tr>\n",
       "      <th>Row1</th>\n",
       "      <td>0</td>\n",
       "      <td>1</td>\n",
       "    </tr>\n",
       "    <tr>\n",
       "      <th>Row2</th>\n",
       "      <td>4</td>\n",
       "      <td>5</td>\n",
       "    </tr>\n",
       "    <tr>\n",
       "      <th>Row3</th>\n",
       "      <td>8</td>\n",
       "      <td>9</td>\n",
       "    </tr>\n",
       "  </tbody>\n",
       "</table>\n",
       "</div>"
      ],
      "text/plain": [
       "      Column1  Column2\n",
       "Row1        0        1\n",
       "Row2        4        5\n",
       "Row3        8        9"
      ]
     },
     "execution_count": 9,
     "metadata": {},
     "output_type": "execute_result"
    }
   ],
   "source": [
    "df.iloc[0:3,0:2]"
   ]
  },
  {
   "cell_type": "code",
   "execution_count": 10,
   "metadata": {},
   "outputs": [
    {
     "data": {
      "text/plain": [
       "array([[ 1,  2,  3],\n",
       "       [ 5,  6,  7],\n",
       "       [ 9, 10, 11],\n",
       "       [13, 14, 15],\n",
       "       [17, 18, 19]])"
      ]
     },
     "execution_count": 10,
     "metadata": {},
     "output_type": "execute_result"
    }
   ],
   "source": [
    "#convert Dataframes into array\n",
    "df.iloc[:,1:].values"
   ]
  },
  {
   "cell_type": "code",
   "execution_count": 11,
   "metadata": {},
   "outputs": [
    {
     "data": {
      "text/plain": [
       "<bound method IndexOpsMixin.value_counts of Row1     0\n",
       "Row2     4\n",
       "Row3     8\n",
       "Row4    12\n",
       "Row5    16\n",
       "Name: Column1, dtype: int32>"
      ]
     },
     "execution_count": 11,
     "metadata": {},
     "output_type": "execute_result"
    }
   ],
   "source": [
    "df['Column1'].value_counts"
   ]
  },
  {
   "cell_type": "code",
   "execution_count": 12,
   "metadata": {},
   "outputs": [
    {
     "data": {
      "text/plain": [
       "Column1     0\n",
       "Column2     0\n",
       "Columns3    0\n",
       "Column4     0\n",
       "dtype: int64"
      ]
     },
     "execution_count": 12,
     "metadata": {},
     "output_type": "execute_result"
    }
   ],
   "source": [
    "df.isnull().sum()"
   ]
  },
  {
   "cell_type": "code",
   "execution_count": 13,
   "metadata": {},
   "outputs": [
    {
     "data": {
      "text/plain": [
       "0"
      ]
     },
     "execution_count": 13,
     "metadata": {},
     "output_type": "execute_result"
    }
   ],
   "source": [
    "df.duplicated().sum()"
   ]
  },
  {
   "cell_type": "code",
   "execution_count": 14,
   "metadata": {},
   "outputs": [
    {
     "data": {
      "text/plain": [
       "array([ 0,  4,  8, 12, 16])"
      ]
     },
     "execution_count": 14,
     "metadata": {},
     "output_type": "execute_result"
    }
   ],
   "source": [
    "df['Column1'].unique()"
   ]
  },
  {
   "cell_type": "code",
   "execution_count": 15,
   "metadata": {},
   "outputs": [],
   "source": [
    "df = pd.read_csv('mercedesbenz.csv')"
   ]
  },
  {
   "cell_type": "code",
   "execution_count": 16,
   "metadata": {},
   "outputs": [
    {
     "data": {
      "text/html": [
       "<div>\n",
       "<style scoped>\n",
       "    .dataframe tbody tr th:only-of-type {\n",
       "        vertical-align: middle;\n",
       "    }\n",
       "\n",
       "    .dataframe tbody tr th {\n",
       "        vertical-align: top;\n",
       "    }\n",
       "\n",
       "    .dataframe thead th {\n",
       "        text-align: right;\n",
       "    }\n",
       "</style>\n",
       "<table border=\"1\" class=\"dataframe\">\n",
       "  <thead>\n",
       "    <tr style=\"text-align: right;\">\n",
       "      <th></th>\n",
       "      <th>ID</th>\n",
       "      <th>y</th>\n",
       "      <th>X0</th>\n",
       "      <th>X1</th>\n",
       "      <th>X2</th>\n",
       "      <th>X3</th>\n",
       "      <th>X4</th>\n",
       "      <th>X5</th>\n",
       "      <th>X6</th>\n",
       "      <th>X8</th>\n",
       "      <th>...</th>\n",
       "      <th>X375</th>\n",
       "      <th>X376</th>\n",
       "      <th>X377</th>\n",
       "      <th>X378</th>\n",
       "      <th>X379</th>\n",
       "      <th>X380</th>\n",
       "      <th>X382</th>\n",
       "      <th>X383</th>\n",
       "      <th>X384</th>\n",
       "      <th>X385</th>\n",
       "    </tr>\n",
       "  </thead>\n",
       "  <tbody>\n",
       "    <tr>\n",
       "      <th>0</th>\n",
       "      <td>0</td>\n",
       "      <td>130.81</td>\n",
       "      <td>k</td>\n",
       "      <td>v</td>\n",
       "      <td>at</td>\n",
       "      <td>a</td>\n",
       "      <td>d</td>\n",
       "      <td>u</td>\n",
       "      <td>j</td>\n",
       "      <td>o</td>\n",
       "      <td>...</td>\n",
       "      <td>0</td>\n",
       "      <td>0</td>\n",
       "      <td>1</td>\n",
       "      <td>0</td>\n",
       "      <td>0</td>\n",
       "      <td>0</td>\n",
       "      <td>0</td>\n",
       "      <td>0</td>\n",
       "      <td>0</td>\n",
       "      <td>0</td>\n",
       "    </tr>\n",
       "    <tr>\n",
       "      <th>1</th>\n",
       "      <td>6</td>\n",
       "      <td>88.53</td>\n",
       "      <td>k</td>\n",
       "      <td>t</td>\n",
       "      <td>av</td>\n",
       "      <td>e</td>\n",
       "      <td>d</td>\n",
       "      <td>y</td>\n",
       "      <td>l</td>\n",
       "      <td>o</td>\n",
       "      <td>...</td>\n",
       "      <td>1</td>\n",
       "      <td>0</td>\n",
       "      <td>0</td>\n",
       "      <td>0</td>\n",
       "      <td>0</td>\n",
       "      <td>0</td>\n",
       "      <td>0</td>\n",
       "      <td>0</td>\n",
       "      <td>0</td>\n",
       "      <td>0</td>\n",
       "    </tr>\n",
       "    <tr>\n",
       "      <th>2</th>\n",
       "      <td>7</td>\n",
       "      <td>76.26</td>\n",
       "      <td>az</td>\n",
       "      <td>w</td>\n",
       "      <td>n</td>\n",
       "      <td>c</td>\n",
       "      <td>d</td>\n",
       "      <td>x</td>\n",
       "      <td>j</td>\n",
       "      <td>x</td>\n",
       "      <td>...</td>\n",
       "      <td>0</td>\n",
       "      <td>0</td>\n",
       "      <td>0</td>\n",
       "      <td>0</td>\n",
       "      <td>0</td>\n",
       "      <td>0</td>\n",
       "      <td>1</td>\n",
       "      <td>0</td>\n",
       "      <td>0</td>\n",
       "      <td>0</td>\n",
       "    </tr>\n",
       "    <tr>\n",
       "      <th>3</th>\n",
       "      <td>9</td>\n",
       "      <td>80.62</td>\n",
       "      <td>az</td>\n",
       "      <td>t</td>\n",
       "      <td>n</td>\n",
       "      <td>f</td>\n",
       "      <td>d</td>\n",
       "      <td>x</td>\n",
       "      <td>l</td>\n",
       "      <td>e</td>\n",
       "      <td>...</td>\n",
       "      <td>0</td>\n",
       "      <td>0</td>\n",
       "      <td>0</td>\n",
       "      <td>0</td>\n",
       "      <td>0</td>\n",
       "      <td>0</td>\n",
       "      <td>0</td>\n",
       "      <td>0</td>\n",
       "      <td>0</td>\n",
       "      <td>0</td>\n",
       "    </tr>\n",
       "    <tr>\n",
       "      <th>4</th>\n",
       "      <td>13</td>\n",
       "      <td>78.02</td>\n",
       "      <td>az</td>\n",
       "      <td>v</td>\n",
       "      <td>n</td>\n",
       "      <td>f</td>\n",
       "      <td>d</td>\n",
       "      <td>h</td>\n",
       "      <td>d</td>\n",
       "      <td>n</td>\n",
       "      <td>...</td>\n",
       "      <td>0</td>\n",
       "      <td>0</td>\n",
       "      <td>0</td>\n",
       "      <td>0</td>\n",
       "      <td>0</td>\n",
       "      <td>0</td>\n",
       "      <td>0</td>\n",
       "      <td>0</td>\n",
       "      <td>0</td>\n",
       "      <td>0</td>\n",
       "    </tr>\n",
       "  </tbody>\n",
       "</table>\n",
       "<p>5 rows × 378 columns</p>\n",
       "</div>"
      ],
      "text/plain": [
       "   ID       y  X0 X1  X2 X3 X4 X5 X6 X8  ...  X375  X376  X377  X378  X379  \\\n",
       "0   0  130.81   k  v  at  a  d  u  j  o  ...     0     0     1     0     0   \n",
       "1   6   88.53   k  t  av  e  d  y  l  o  ...     1     0     0     0     0   \n",
       "2   7   76.26  az  w   n  c  d  x  j  x  ...     0     0     0     0     0   \n",
       "3   9   80.62  az  t   n  f  d  x  l  e  ...     0     0     0     0     0   \n",
       "4  13   78.02  az  v   n  f  d  h  d  n  ...     0     0     0     0     0   \n",
       "\n",
       "   X380  X382  X383  X384  X385  \n",
       "0     0     0     0     0     0  \n",
       "1     0     0     0     0     0  \n",
       "2     0     1     0     0     0  \n",
       "3     0     0     0     0     0  \n",
       "4     0     0     0     0     0  \n",
       "\n",
       "[5 rows x 378 columns]"
      ]
     },
     "execution_count": 16,
     "metadata": {},
     "output_type": "execute_result"
    }
   ],
   "source": [
    "df.head()"
   ]
  },
  {
   "cell_type": "code",
   "execution_count": 17,
   "metadata": {},
   "outputs": [
    {
     "name": "stdout",
     "output_type": "stream",
     "text": [
      "<class 'pandas.core.frame.DataFrame'>\n",
      "RangeIndex: 4209 entries, 0 to 4208\n",
      "Columns: 378 entries, ID to X385\n",
      "dtypes: float64(1), int64(369), object(8)\n",
      "memory usage: 12.1+ MB\n"
     ]
    }
   ],
   "source": [
    "df.info()"
   ]
  },
  {
   "cell_type": "code",
   "execution_count": 18,
   "metadata": {},
   "outputs": [
    {
     "data": {
      "text/html": [
       "<div>\n",
       "<style scoped>\n",
       "    .dataframe tbody tr th:only-of-type {\n",
       "        vertical-align: middle;\n",
       "    }\n",
       "\n",
       "    .dataframe tbody tr th {\n",
       "        vertical-align: top;\n",
       "    }\n",
       "\n",
       "    .dataframe thead th {\n",
       "        text-align: right;\n",
       "    }\n",
       "</style>\n",
       "<table border=\"1\" class=\"dataframe\">\n",
       "  <thead>\n",
       "    <tr style=\"text-align: right;\">\n",
       "      <th></th>\n",
       "      <th>ID</th>\n",
       "      <th>y</th>\n",
       "      <th>X10</th>\n",
       "      <th>X11</th>\n",
       "      <th>X12</th>\n",
       "      <th>X13</th>\n",
       "      <th>X14</th>\n",
       "      <th>X15</th>\n",
       "      <th>X16</th>\n",
       "      <th>X17</th>\n",
       "      <th>...</th>\n",
       "      <th>X375</th>\n",
       "      <th>X376</th>\n",
       "      <th>X377</th>\n",
       "      <th>X378</th>\n",
       "      <th>X379</th>\n",
       "      <th>X380</th>\n",
       "      <th>X382</th>\n",
       "      <th>X383</th>\n",
       "      <th>X384</th>\n",
       "      <th>X385</th>\n",
       "    </tr>\n",
       "  </thead>\n",
       "  <tbody>\n",
       "    <tr>\n",
       "      <th>count</th>\n",
       "      <td>4209.000000</td>\n",
       "      <td>4209.000000</td>\n",
       "      <td>4209.000000</td>\n",
       "      <td>4209.0</td>\n",
       "      <td>4209.000000</td>\n",
       "      <td>4209.000000</td>\n",
       "      <td>4209.000000</td>\n",
       "      <td>4209.000000</td>\n",
       "      <td>4209.000000</td>\n",
       "      <td>4209.000000</td>\n",
       "      <td>...</td>\n",
       "      <td>4209.000000</td>\n",
       "      <td>4209.000000</td>\n",
       "      <td>4209.000000</td>\n",
       "      <td>4209.000000</td>\n",
       "      <td>4209.000000</td>\n",
       "      <td>4209.000000</td>\n",
       "      <td>4209.000000</td>\n",
       "      <td>4209.000000</td>\n",
       "      <td>4209.000000</td>\n",
       "      <td>4209.000000</td>\n",
       "    </tr>\n",
       "    <tr>\n",
       "      <th>mean</th>\n",
       "      <td>4205.960798</td>\n",
       "      <td>100.669318</td>\n",
       "      <td>0.013305</td>\n",
       "      <td>0.0</td>\n",
       "      <td>0.075077</td>\n",
       "      <td>0.057971</td>\n",
       "      <td>0.428130</td>\n",
       "      <td>0.000475</td>\n",
       "      <td>0.002613</td>\n",
       "      <td>0.007603</td>\n",
       "      <td>...</td>\n",
       "      <td>0.318841</td>\n",
       "      <td>0.057258</td>\n",
       "      <td>0.314802</td>\n",
       "      <td>0.020670</td>\n",
       "      <td>0.009503</td>\n",
       "      <td>0.008078</td>\n",
       "      <td>0.007603</td>\n",
       "      <td>0.001663</td>\n",
       "      <td>0.000475</td>\n",
       "      <td>0.001426</td>\n",
       "    </tr>\n",
       "    <tr>\n",
       "      <th>std</th>\n",
       "      <td>2437.608688</td>\n",
       "      <td>12.679381</td>\n",
       "      <td>0.114590</td>\n",
       "      <td>0.0</td>\n",
       "      <td>0.263547</td>\n",
       "      <td>0.233716</td>\n",
       "      <td>0.494867</td>\n",
       "      <td>0.021796</td>\n",
       "      <td>0.051061</td>\n",
       "      <td>0.086872</td>\n",
       "      <td>...</td>\n",
       "      <td>0.466082</td>\n",
       "      <td>0.232363</td>\n",
       "      <td>0.464492</td>\n",
       "      <td>0.142294</td>\n",
       "      <td>0.097033</td>\n",
       "      <td>0.089524</td>\n",
       "      <td>0.086872</td>\n",
       "      <td>0.040752</td>\n",
       "      <td>0.021796</td>\n",
       "      <td>0.037734</td>\n",
       "    </tr>\n",
       "    <tr>\n",
       "      <th>min</th>\n",
       "      <td>0.000000</td>\n",
       "      <td>72.110000</td>\n",
       "      <td>0.000000</td>\n",
       "      <td>0.0</td>\n",
       "      <td>0.000000</td>\n",
       "      <td>0.000000</td>\n",
       "      <td>0.000000</td>\n",
       "      <td>0.000000</td>\n",
       "      <td>0.000000</td>\n",
       "      <td>0.000000</td>\n",
       "      <td>...</td>\n",
       "      <td>0.000000</td>\n",
       "      <td>0.000000</td>\n",
       "      <td>0.000000</td>\n",
       "      <td>0.000000</td>\n",
       "      <td>0.000000</td>\n",
       "      <td>0.000000</td>\n",
       "      <td>0.000000</td>\n",
       "      <td>0.000000</td>\n",
       "      <td>0.000000</td>\n",
       "      <td>0.000000</td>\n",
       "    </tr>\n",
       "    <tr>\n",
       "      <th>25%</th>\n",
       "      <td>2095.000000</td>\n",
       "      <td>90.820000</td>\n",
       "      <td>0.000000</td>\n",
       "      <td>0.0</td>\n",
       "      <td>0.000000</td>\n",
       "      <td>0.000000</td>\n",
       "      <td>0.000000</td>\n",
       "      <td>0.000000</td>\n",
       "      <td>0.000000</td>\n",
       "      <td>0.000000</td>\n",
       "      <td>...</td>\n",
       "      <td>0.000000</td>\n",
       "      <td>0.000000</td>\n",
       "      <td>0.000000</td>\n",
       "      <td>0.000000</td>\n",
       "      <td>0.000000</td>\n",
       "      <td>0.000000</td>\n",
       "      <td>0.000000</td>\n",
       "      <td>0.000000</td>\n",
       "      <td>0.000000</td>\n",
       "      <td>0.000000</td>\n",
       "    </tr>\n",
       "    <tr>\n",
       "      <th>50%</th>\n",
       "      <td>4220.000000</td>\n",
       "      <td>99.150000</td>\n",
       "      <td>0.000000</td>\n",
       "      <td>0.0</td>\n",
       "      <td>0.000000</td>\n",
       "      <td>0.000000</td>\n",
       "      <td>0.000000</td>\n",
       "      <td>0.000000</td>\n",
       "      <td>0.000000</td>\n",
       "      <td>0.000000</td>\n",
       "      <td>...</td>\n",
       "      <td>0.000000</td>\n",
       "      <td>0.000000</td>\n",
       "      <td>0.000000</td>\n",
       "      <td>0.000000</td>\n",
       "      <td>0.000000</td>\n",
       "      <td>0.000000</td>\n",
       "      <td>0.000000</td>\n",
       "      <td>0.000000</td>\n",
       "      <td>0.000000</td>\n",
       "      <td>0.000000</td>\n",
       "    </tr>\n",
       "    <tr>\n",
       "      <th>75%</th>\n",
       "      <td>6314.000000</td>\n",
       "      <td>109.010000</td>\n",
       "      <td>0.000000</td>\n",
       "      <td>0.0</td>\n",
       "      <td>0.000000</td>\n",
       "      <td>0.000000</td>\n",
       "      <td>1.000000</td>\n",
       "      <td>0.000000</td>\n",
       "      <td>0.000000</td>\n",
       "      <td>0.000000</td>\n",
       "      <td>...</td>\n",
       "      <td>1.000000</td>\n",
       "      <td>0.000000</td>\n",
       "      <td>1.000000</td>\n",
       "      <td>0.000000</td>\n",
       "      <td>0.000000</td>\n",
       "      <td>0.000000</td>\n",
       "      <td>0.000000</td>\n",
       "      <td>0.000000</td>\n",
       "      <td>0.000000</td>\n",
       "      <td>0.000000</td>\n",
       "    </tr>\n",
       "    <tr>\n",
       "      <th>max</th>\n",
       "      <td>8417.000000</td>\n",
       "      <td>265.320000</td>\n",
       "      <td>1.000000</td>\n",
       "      <td>0.0</td>\n",
       "      <td>1.000000</td>\n",
       "      <td>1.000000</td>\n",
       "      <td>1.000000</td>\n",
       "      <td>1.000000</td>\n",
       "      <td>1.000000</td>\n",
       "      <td>1.000000</td>\n",
       "      <td>...</td>\n",
       "      <td>1.000000</td>\n",
       "      <td>1.000000</td>\n",
       "      <td>1.000000</td>\n",
       "      <td>1.000000</td>\n",
       "      <td>1.000000</td>\n",
       "      <td>1.000000</td>\n",
       "      <td>1.000000</td>\n",
       "      <td>1.000000</td>\n",
       "      <td>1.000000</td>\n",
       "      <td>1.000000</td>\n",
       "    </tr>\n",
       "  </tbody>\n",
       "</table>\n",
       "<p>8 rows × 370 columns</p>\n",
       "</div>"
      ],
      "text/plain": [
       "                ID            y          X10     X11          X12  \\\n",
       "count  4209.000000  4209.000000  4209.000000  4209.0  4209.000000   \n",
       "mean   4205.960798   100.669318     0.013305     0.0     0.075077   \n",
       "std    2437.608688    12.679381     0.114590     0.0     0.263547   \n",
       "min       0.000000    72.110000     0.000000     0.0     0.000000   \n",
       "25%    2095.000000    90.820000     0.000000     0.0     0.000000   \n",
       "50%    4220.000000    99.150000     0.000000     0.0     0.000000   \n",
       "75%    6314.000000   109.010000     0.000000     0.0     0.000000   \n",
       "max    8417.000000   265.320000     1.000000     0.0     1.000000   \n",
       "\n",
       "               X13          X14          X15          X16          X17  ...  \\\n",
       "count  4209.000000  4209.000000  4209.000000  4209.000000  4209.000000  ...   \n",
       "mean      0.057971     0.428130     0.000475     0.002613     0.007603  ...   \n",
       "std       0.233716     0.494867     0.021796     0.051061     0.086872  ...   \n",
       "min       0.000000     0.000000     0.000000     0.000000     0.000000  ...   \n",
       "25%       0.000000     0.000000     0.000000     0.000000     0.000000  ...   \n",
       "50%       0.000000     0.000000     0.000000     0.000000     0.000000  ...   \n",
       "75%       0.000000     1.000000     0.000000     0.000000     0.000000  ...   \n",
       "max       1.000000     1.000000     1.000000     1.000000     1.000000  ...   \n",
       "\n",
       "              X375         X376         X377         X378         X379  \\\n",
       "count  4209.000000  4209.000000  4209.000000  4209.000000  4209.000000   \n",
       "mean      0.318841     0.057258     0.314802     0.020670     0.009503   \n",
       "std       0.466082     0.232363     0.464492     0.142294     0.097033   \n",
       "min       0.000000     0.000000     0.000000     0.000000     0.000000   \n",
       "25%       0.000000     0.000000     0.000000     0.000000     0.000000   \n",
       "50%       0.000000     0.000000     0.000000     0.000000     0.000000   \n",
       "75%       1.000000     0.000000     1.000000     0.000000     0.000000   \n",
       "max       1.000000     1.000000     1.000000     1.000000     1.000000   \n",
       "\n",
       "              X380         X382         X383         X384         X385  \n",
       "count  4209.000000  4209.000000  4209.000000  4209.000000  4209.000000  \n",
       "mean      0.008078     0.007603     0.001663     0.000475     0.001426  \n",
       "std       0.089524     0.086872     0.040752     0.021796     0.037734  \n",
       "min       0.000000     0.000000     0.000000     0.000000     0.000000  \n",
       "25%       0.000000     0.000000     0.000000     0.000000     0.000000  \n",
       "50%       0.000000     0.000000     0.000000     0.000000     0.000000  \n",
       "75%       0.000000     0.000000     0.000000     0.000000     0.000000  \n",
       "max       1.000000     1.000000     1.000000     1.000000     1.000000  \n",
       "\n",
       "[8 rows x 370 columns]"
      ]
     },
     "execution_count": 18,
     "metadata": {},
     "output_type": "execute_result"
    }
   ],
   "source": [
    "df.describe()"
   ]
  },
  {
   "cell_type": "code",
   "execution_count": 19,
   "metadata": {},
   "outputs": [
    {
     "data": {
      "text/plain": [
       "z     360\n",
       "ak    349\n",
       "y     324\n",
       "ay    313\n",
       "t     306\n",
       "x     300\n",
       "o     269\n",
       "f     227\n",
       "n     195\n",
       "w     182\n",
       "j     181\n",
       "az    175\n",
       "aj    151\n",
       "s     106\n",
       "ap    103\n",
       "h      75\n",
       "d      73\n",
       "al     67\n",
       "v      36\n",
       "af     35\n",
       "m      34\n",
       "ai     34\n",
       "e      32\n",
       "ba     27\n",
       "at     25\n",
       "a      21\n",
       "ax     19\n",
       "aq     18\n",
       "am     18\n",
       "i      18\n",
       "u      17\n",
       "aw     16\n",
       "l      16\n",
       "ad     14\n",
       "au     11\n",
       "k      11\n",
       "b      11\n",
       "r      10\n",
       "as     10\n",
       "bc      6\n",
       "ao      4\n",
       "c       3\n",
       "aa      2\n",
       "q       2\n",
       "ac      1\n",
       "g       1\n",
       "ab      1\n",
       "Name: X0, dtype: int64"
      ]
     },
     "execution_count": 19,
     "metadata": {},
     "output_type": "execute_result"
    }
   ],
   "source": [
    "df['X0'].value_counts()"
   ]
  },
  {
   "cell_type": "markdown",
   "metadata": {},
   "source": [
    "## CSV"
   ]
  },
  {
   "cell_type": "code",
   "execution_count": 20,
   "metadata": {},
   "outputs": [],
   "source": [
    "from io import StringIO,BytesIO"
   ]
  },
  {
   "cell_type": "code",
   "execution_count": 21,
   "metadata": {},
   "outputs": [],
   "source": [
    "data = ('col1,col2,col3\\n'\n",
    "        'x,y,1\\n'\n",
    "        'a,b,2\\n'\n",
    "        'c,d,3')"
   ]
  },
  {
   "cell_type": "code",
   "execution_count": 22,
   "metadata": {},
   "outputs": [
    {
     "data": {
      "text/plain": [
       "str"
      ]
     },
     "execution_count": 22,
     "metadata": {},
     "output_type": "execute_result"
    }
   ],
   "source": [
    "type(data)"
   ]
  },
  {
   "cell_type": "code",
   "execution_count": 23,
   "metadata": {},
   "outputs": [
    {
     "data": {
      "text/html": [
       "<div>\n",
       "<style scoped>\n",
       "    .dataframe tbody tr th:only-of-type {\n",
       "        vertical-align: middle;\n",
       "    }\n",
       "\n",
       "    .dataframe tbody tr th {\n",
       "        vertical-align: top;\n",
       "    }\n",
       "\n",
       "    .dataframe thead th {\n",
       "        text-align: right;\n",
       "    }\n",
       "</style>\n",
       "<table border=\"1\" class=\"dataframe\">\n",
       "  <thead>\n",
       "    <tr style=\"text-align: right;\">\n",
       "      <th></th>\n",
       "      <th>col1</th>\n",
       "      <th>col2</th>\n",
       "      <th>col3</th>\n",
       "    </tr>\n",
       "  </thead>\n",
       "  <tbody>\n",
       "    <tr>\n",
       "      <th>0</th>\n",
       "      <td>x</td>\n",
       "      <td>y</td>\n",
       "      <td>1</td>\n",
       "    </tr>\n",
       "    <tr>\n",
       "      <th>1</th>\n",
       "      <td>a</td>\n",
       "      <td>b</td>\n",
       "      <td>2</td>\n",
       "    </tr>\n",
       "    <tr>\n",
       "      <th>2</th>\n",
       "      <td>c</td>\n",
       "      <td>d</td>\n",
       "      <td>3</td>\n",
       "    </tr>\n",
       "  </tbody>\n",
       "</table>\n",
       "</div>"
      ],
      "text/plain": [
       "  col1 col2  col3\n",
       "0    x    y     1\n",
       "1    a    b     2\n",
       "2    c    d     3"
      ]
     },
     "execution_count": 23,
     "metadata": {},
     "output_type": "execute_result"
    }
   ],
   "source": [
    "pd.read_csv(StringIO(data))"
   ]
  },
  {
   "cell_type": "code",
   "execution_count": 24,
   "metadata": {},
   "outputs": [
    {
     "data": {
      "text/html": [
       "<div>\n",
       "<style scoped>\n",
       "    .dataframe tbody tr th:only-of-type {\n",
       "        vertical-align: middle;\n",
       "    }\n",
       "\n",
       "    .dataframe tbody tr th {\n",
       "        vertical-align: top;\n",
       "    }\n",
       "\n",
       "    .dataframe thead th {\n",
       "        text-align: right;\n",
       "    }\n",
       "</style>\n",
       "<table border=\"1\" class=\"dataframe\">\n",
       "  <thead>\n",
       "    <tr style=\"text-align: right;\">\n",
       "      <th></th>\n",
       "      <th>col1</th>\n",
       "      <th>col3</th>\n",
       "    </tr>\n",
       "  </thead>\n",
       "  <tbody>\n",
       "    <tr>\n",
       "      <th>0</th>\n",
       "      <td>x</td>\n",
       "      <td>1</td>\n",
       "    </tr>\n",
       "    <tr>\n",
       "      <th>1</th>\n",
       "      <td>a</td>\n",
       "      <td>2</td>\n",
       "    </tr>\n",
       "    <tr>\n",
       "      <th>2</th>\n",
       "      <td>c</td>\n",
       "      <td>3</td>\n",
       "    </tr>\n",
       "  </tbody>\n",
       "</table>\n",
       "</div>"
      ],
      "text/plain": [
       "  col1  col3\n",
       "0    x     1\n",
       "1    a     2\n",
       "2    c     3"
      ]
     },
     "execution_count": 24,
     "metadata": {},
     "output_type": "execute_result"
    }
   ],
   "source": [
    "# read from specific columns\n",
    "\n",
    "df = pd.read_csv(StringIO(data),usecols=['col1','col3'] )\n",
    "df"
   ]
  },
  {
   "cell_type": "code",
   "execution_count": 25,
   "metadata": {},
   "outputs": [],
   "source": [
    "df.to_csv('test.csv')"
   ]
  },
  {
   "cell_type": "code",
   "execution_count": 26,
   "metadata": {},
   "outputs": [],
   "source": [
    "#specifying columns data types\n",
    "\n",
    "data = ('a,b,c,d\\n'\n",
    "        '1,2,3,4\\n'\n",
    "        '5,6,7,8\\n'\n",
    "        '9,10,11')"
   ]
  },
  {
   "cell_type": "code",
   "execution_count": 27,
   "metadata": {},
   "outputs": [
    {
     "name": "stdout",
     "output_type": "stream",
     "text": [
      "a,b,c,d\n",
      "1,2,3,4\n",
      "5,6,7,8\n",
      "9,10,11\n"
     ]
    }
   ],
   "source": [
    "print(data)"
   ]
  },
  {
   "cell_type": "code",
   "execution_count": 28,
   "metadata": {},
   "outputs": [
    {
     "data": {
      "text/html": [
       "<div>\n",
       "<style scoped>\n",
       "    .dataframe tbody tr th:only-of-type {\n",
       "        vertical-align: middle;\n",
       "    }\n",
       "\n",
       "    .dataframe tbody tr th {\n",
       "        vertical-align: top;\n",
       "    }\n",
       "\n",
       "    .dataframe thead th {\n",
       "        text-align: right;\n",
       "    }\n",
       "</style>\n",
       "<table border=\"1\" class=\"dataframe\">\n",
       "  <thead>\n",
       "    <tr style=\"text-align: right;\">\n",
       "      <th></th>\n",
       "      <th>a</th>\n",
       "      <th>b</th>\n",
       "      <th>c</th>\n",
       "      <th>d</th>\n",
       "    </tr>\n",
       "  </thead>\n",
       "  <tbody>\n",
       "    <tr>\n",
       "      <th>0</th>\n",
       "      <td>1</td>\n",
       "      <td>2</td>\n",
       "      <td>3</td>\n",
       "      <td>4</td>\n",
       "    </tr>\n",
       "    <tr>\n",
       "      <th>1</th>\n",
       "      <td>5</td>\n",
       "      <td>6</td>\n",
       "      <td>7</td>\n",
       "      <td>8</td>\n",
       "    </tr>\n",
       "    <tr>\n",
       "      <th>2</th>\n",
       "      <td>9</td>\n",
       "      <td>10</td>\n",
       "      <td>11</td>\n",
       "      <td>NaN</td>\n",
       "    </tr>\n",
       "  </tbody>\n",
       "</table>\n",
       "</div>"
      ],
      "text/plain": [
       "   a   b   c    d\n",
       "0  1   2   3    4\n",
       "1  5   6   7    8\n",
       "2  9  10  11  NaN"
      ]
     },
     "execution_count": 28,
     "metadata": {},
     "output_type": "execute_result"
    }
   ],
   "source": [
    "df = pd.read_csv(StringIO(data),dtype = object)\n",
    "df"
   ]
  },
  {
   "cell_type": "code",
   "execution_count": 29,
   "metadata": {},
   "outputs": [
    {
     "data": {
      "text/plain": [
       "'5'"
      ]
     },
     "execution_count": 29,
     "metadata": {},
     "output_type": "execute_result"
    }
   ],
   "source": [
    "df['a'][1]"
   ]
  },
  {
   "cell_type": "markdown",
   "metadata": {},
   "source": [
    "## Read JSON to CSV"
   ]
  },
  {
   "cell_type": "code",
   "execution_count": 30,
   "metadata": {},
   "outputs": [],
   "source": [
    "df1 = pd.read_csv('wine.csv') "
   ]
  },
  {
   "cell_type": "code",
   "execution_count": 31,
   "metadata": {},
   "outputs": [
    {
     "data": {
      "text/html": [
       "<div>\n",
       "<style scoped>\n",
       "    .dataframe tbody tr th:only-of-type {\n",
       "        vertical-align: middle;\n",
       "    }\n",
       "\n",
       "    .dataframe tbody tr th {\n",
       "        vertical-align: top;\n",
       "    }\n",
       "\n",
       "    .dataframe thead th {\n",
       "        text-align: right;\n",
       "    }\n",
       "</style>\n",
       "<table border=\"1\" class=\"dataframe\">\n",
       "  <thead>\n",
       "    <tr style=\"text-align: right;\">\n",
       "      <th></th>\n",
       "      <th>Unnamed: 0.4</th>\n",
       "      <th>Unnamed: 0.3</th>\n",
       "      <th>Unnamed: 0.2</th>\n",
       "      <th>Unnamed: 0.1</th>\n",
       "      <th>Unnamed: 0</th>\n",
       "      <th>0</th>\n",
       "      <th>1</th>\n",
       "      <th>2</th>\n",
       "      <th>3</th>\n",
       "      <th>4</th>\n",
       "      <th>5</th>\n",
       "      <th>6</th>\n",
       "      <th>7</th>\n",
       "      <th>8</th>\n",
       "      <th>9</th>\n",
       "      <th>10</th>\n",
       "      <th>11</th>\n",
       "      <th>12</th>\n",
       "      <th>13</th>\n",
       "    </tr>\n",
       "  </thead>\n",
       "  <tbody>\n",
       "    <tr>\n",
       "      <th>0</th>\n",
       "      <td>0</td>\n",
       "      <td>0</td>\n",
       "      <td>0</td>\n",
       "      <td>0</td>\n",
       "      <td>0</td>\n",
       "      <td>1</td>\n",
       "      <td>14.23</td>\n",
       "      <td>1.71</td>\n",
       "      <td>2.43</td>\n",
       "      <td>15.6</td>\n",
       "      <td>127</td>\n",
       "      <td>2.80</td>\n",
       "      <td>3.06</td>\n",
       "      <td>0.28</td>\n",
       "      <td>2.29</td>\n",
       "      <td>5.64</td>\n",
       "      <td>1.04</td>\n",
       "      <td>3.92</td>\n",
       "      <td>1065</td>\n",
       "    </tr>\n",
       "    <tr>\n",
       "      <th>1</th>\n",
       "      <td>1</td>\n",
       "      <td>1</td>\n",
       "      <td>1</td>\n",
       "      <td>1</td>\n",
       "      <td>1</td>\n",
       "      <td>1</td>\n",
       "      <td>13.20</td>\n",
       "      <td>1.78</td>\n",
       "      <td>2.14</td>\n",
       "      <td>11.2</td>\n",
       "      <td>100</td>\n",
       "      <td>2.65</td>\n",
       "      <td>2.76</td>\n",
       "      <td>0.26</td>\n",
       "      <td>1.28</td>\n",
       "      <td>4.38</td>\n",
       "      <td>1.05</td>\n",
       "      <td>3.40</td>\n",
       "      <td>1050</td>\n",
       "    </tr>\n",
       "    <tr>\n",
       "      <th>2</th>\n",
       "      <td>2</td>\n",
       "      <td>2</td>\n",
       "      <td>2</td>\n",
       "      <td>2</td>\n",
       "      <td>2</td>\n",
       "      <td>1</td>\n",
       "      <td>13.16</td>\n",
       "      <td>2.36</td>\n",
       "      <td>2.67</td>\n",
       "      <td>18.6</td>\n",
       "      <td>101</td>\n",
       "      <td>2.80</td>\n",
       "      <td>3.24</td>\n",
       "      <td>0.30</td>\n",
       "      <td>2.81</td>\n",
       "      <td>5.68</td>\n",
       "      <td>1.03</td>\n",
       "      <td>3.17</td>\n",
       "      <td>1185</td>\n",
       "    </tr>\n",
       "    <tr>\n",
       "      <th>3</th>\n",
       "      <td>3</td>\n",
       "      <td>3</td>\n",
       "      <td>3</td>\n",
       "      <td>3</td>\n",
       "      <td>3</td>\n",
       "      <td>1</td>\n",
       "      <td>14.37</td>\n",
       "      <td>1.95</td>\n",
       "      <td>2.50</td>\n",
       "      <td>16.8</td>\n",
       "      <td>113</td>\n",
       "      <td>3.85</td>\n",
       "      <td>3.49</td>\n",
       "      <td>0.24</td>\n",
       "      <td>2.18</td>\n",
       "      <td>7.80</td>\n",
       "      <td>0.86</td>\n",
       "      <td>3.45</td>\n",
       "      <td>1480</td>\n",
       "    </tr>\n",
       "    <tr>\n",
       "      <th>4</th>\n",
       "      <td>4</td>\n",
       "      <td>4</td>\n",
       "      <td>4</td>\n",
       "      <td>4</td>\n",
       "      <td>4</td>\n",
       "      <td>1</td>\n",
       "      <td>13.24</td>\n",
       "      <td>2.59</td>\n",
       "      <td>2.87</td>\n",
       "      <td>21.0</td>\n",
       "      <td>118</td>\n",
       "      <td>2.80</td>\n",
       "      <td>2.69</td>\n",
       "      <td>0.39</td>\n",
       "      <td>1.82</td>\n",
       "      <td>4.32</td>\n",
       "      <td>1.04</td>\n",
       "      <td>2.93</td>\n",
       "      <td>735</td>\n",
       "    </tr>\n",
       "  </tbody>\n",
       "</table>\n",
       "</div>"
      ],
      "text/plain": [
       "   Unnamed: 0.4  Unnamed: 0.3  Unnamed: 0.2  Unnamed: 0.1  Unnamed: 0  0  \\\n",
       "0             0             0             0             0           0  1   \n",
       "1             1             1             1             1           1  1   \n",
       "2             2             2             2             2           2  1   \n",
       "3             3             3             3             3           3  1   \n",
       "4             4             4             4             4           4  1   \n",
       "\n",
       "       1     2     3     4    5     6     7     8     9    10    11    12  \\\n",
       "0  14.23  1.71  2.43  15.6  127  2.80  3.06  0.28  2.29  5.64  1.04  3.92   \n",
       "1  13.20  1.78  2.14  11.2  100  2.65  2.76  0.26  1.28  4.38  1.05  3.40   \n",
       "2  13.16  2.36  2.67  18.6  101  2.80  3.24  0.30  2.81  5.68  1.03  3.17   \n",
       "3  14.37  1.95  2.50  16.8  113  3.85  3.49  0.24  2.18  7.80  0.86  3.45   \n",
       "4  13.24  2.59  2.87  21.0  118  2.80  2.69  0.39  1.82  4.32  1.04  2.93   \n",
       "\n",
       "     13  \n",
       "0  1065  \n",
       "1  1050  \n",
       "2  1185  \n",
       "3  1480  \n",
       "4   735  "
      ]
     },
     "execution_count": 31,
     "metadata": {},
     "output_type": "execute_result"
    }
   ],
   "source": [
    "df1.head()"
   ]
  },
  {
   "cell_type": "code",
   "execution_count": 32,
   "metadata": {},
   "outputs": [],
   "source": [
    "df1.to_csv('wine.csv')"
   ]
  },
  {
   "cell_type": "code",
   "execution_count": 33,
   "metadata": {},
   "outputs": [
    {
     "data": {
      "text/plain": [
       "'[{\"Unnamed: 0.4\":0,\"Unnamed: 0.3\":0,\"Unnamed: 0.2\":0,\"Unnamed: 0.1\":0,\"Unnamed: 0\":0,\"0\":1,\"1\":14.23,\"2\":1.71,\"3\":2.43,\"4\":15.6,\"5\":127,\"6\":2.8,\"7\":3.06,\"8\":0.28,\"9\":2.29,\"10\":5.64,\"11\":1.04,\"12\":3.92,\"13\":1065},{\"Unnamed: 0.4\":1,\"Unnamed: 0.3\":1,\"Unnamed: 0.2\":1,\"Unnamed: 0.1\":1,\"Unnamed: 0\":1,\"0\":1,\"1\":13.2,\"2\":1.78,\"3\":2.14,\"4\":11.2,\"5\":100,\"6\":2.65,\"7\":2.76,\"8\":0.26,\"9\":1.28,\"10\":4.38,\"11\":1.05,\"12\":3.4,\"13\":1050},{\"Unnamed: 0.4\":2,\"Unnamed: 0.3\":2,\"Unnamed: 0.2\":2,\"Unnamed: 0.1\":2,\"Unnamed: 0\":2,\"0\":1,\"1\":13.16,\"2\":2.36,\"3\":2.67,\"4\":18.6,\"5\":101,\"6\":2.8,\"7\":3.24,\"8\":0.3,\"9\":2.81,\"10\":5.68,\"11\":1.03,\"12\":3.17,\"13\":1185},{\"Unnamed: 0.4\":3,\"Unnamed: 0.3\":3,\"Unnamed: 0.2\":3,\"Unnamed: 0.1\":3,\"Unnamed: 0\":3,\"0\":1,\"1\":14.37,\"2\":1.95,\"3\":2.5,\"4\":16.8,\"5\":113,\"6\":3.85,\"7\":3.49,\"8\":0.24,\"9\":2.18,\"10\":7.8,\"11\":0.86,\"12\":3.45,\"13\":1480},{\"Unnamed: 0.4\":4,\"Unnamed: 0.3\":4,\"Unnamed: 0.2\":4,\"Unnamed: 0.1\":4,\"Unnamed: 0\":4,\"0\":1,\"1\":13.24,\"2\":2.59,\"3\":2.87,\"4\":21.0,\"5\":118,\"6\":2.8,\"7\":2.69,\"8\":0.39,\"9\":1.82,\"10\":4.32,\"11\":1.04,\"12\":2.93,\"13\":735},{\"Unnamed: 0.4\":5,\"Unnamed: 0.3\":5,\"Unnamed: 0.2\":5,\"Unnamed: 0.1\":5,\"Unnamed: 0\":5,\"0\":1,\"1\":14.2,\"2\":1.76,\"3\":2.45,\"4\":15.2,\"5\":112,\"6\":3.27,\"7\":3.39,\"8\":0.34,\"9\":1.97,\"10\":6.75,\"11\":1.05,\"12\":2.85,\"13\":1450},{\"Unnamed: 0.4\":6,\"Unnamed: 0.3\":6,\"Unnamed: 0.2\":6,\"Unnamed: 0.1\":6,\"Unnamed: 0\":6,\"0\":1,\"1\":14.39,\"2\":1.87,\"3\":2.45,\"4\":14.6,\"5\":96,\"6\":2.5,\"7\":2.52,\"8\":0.3,\"9\":1.98,\"10\":5.25,\"11\":1.02,\"12\":3.58,\"13\":1290},{\"Unnamed: 0.4\":7,\"Unnamed: 0.3\":7,\"Unnamed: 0.2\":7,\"Unnamed: 0.1\":7,\"Unnamed: 0\":7,\"0\":1,\"1\":14.06,\"2\":2.15,\"3\":2.61,\"4\":17.6,\"5\":121,\"6\":2.6,\"7\":2.51,\"8\":0.31,\"9\":1.25,\"10\":5.05,\"11\":1.06,\"12\":3.58,\"13\":1295},{\"Unnamed: 0.4\":8,\"Unnamed: 0.3\":8,\"Unnamed: 0.2\":8,\"Unnamed: 0.1\":8,\"Unnamed: 0\":8,\"0\":1,\"1\":14.83,\"2\":1.64,\"3\":2.17,\"4\":14.0,\"5\":97,\"6\":2.8,\"7\":2.98,\"8\":0.29,\"9\":1.98,\"10\":5.2,\"11\":1.08,\"12\":2.85,\"13\":1045},{\"Unnamed: 0.4\":9,\"Unnamed: 0.3\":9,\"Unnamed: 0.2\":9,\"Unnamed: 0.1\":9,\"Unnamed: 0\":9,\"0\":1,\"1\":13.86,\"2\":1.35,\"3\":2.27,\"4\":16.0,\"5\":98,\"6\":2.98,\"7\":3.15,\"8\":0.22,\"9\":1.85,\"10\":7.22,\"11\":1.01,\"12\":3.55,\"13\":1045},{\"Unnamed: 0.4\":10,\"Unnamed: 0.3\":10,\"Unnamed: 0.2\":10,\"Unnamed: 0.1\":10,\"Unnamed: 0\":10,\"0\":1,\"1\":14.1,\"2\":2.16,\"3\":2.3,\"4\":18.0,\"5\":105,\"6\":2.95,\"7\":3.32,\"8\":0.22,\"9\":2.38,\"10\":5.75,\"11\":1.25,\"12\":3.17,\"13\":1510},{\"Unnamed: 0.4\":11,\"Unnamed: 0.3\":11,\"Unnamed: 0.2\":11,\"Unnamed: 0.1\":11,\"Unnamed: 0\":11,\"0\":1,\"1\":14.12,\"2\":1.48,\"3\":2.32,\"4\":16.8,\"5\":95,\"6\":2.2,\"7\":2.43,\"8\":0.26,\"9\":1.57,\"10\":5.0,\"11\":1.17,\"12\":2.82,\"13\":1280},{\"Unnamed: 0.4\":12,\"Unnamed: 0.3\":12,\"Unnamed: 0.2\":12,\"Unnamed: 0.1\":12,\"Unnamed: 0\":12,\"0\":1,\"1\":13.75,\"2\":1.73,\"3\":2.41,\"4\":16.0,\"5\":89,\"6\":2.6,\"7\":2.76,\"8\":0.29,\"9\":1.81,\"10\":5.6,\"11\":1.15,\"12\":2.9,\"13\":1320},{\"Unnamed: 0.4\":13,\"Unnamed: 0.3\":13,\"Unnamed: 0.2\":13,\"Unnamed: 0.1\":13,\"Unnamed: 0\":13,\"0\":1,\"1\":14.75,\"2\":1.73,\"3\":2.39,\"4\":11.4,\"5\":91,\"6\":3.1,\"7\":3.69,\"8\":0.43,\"9\":2.81,\"10\":5.4,\"11\":1.25,\"12\":2.73,\"13\":1150},{\"Unnamed: 0.4\":14,\"Unnamed: 0.3\":14,\"Unnamed: 0.2\":14,\"Unnamed: 0.1\":14,\"Unnamed: 0\":14,\"0\":1,\"1\":14.38,\"2\":1.87,\"3\":2.38,\"4\":12.0,\"5\":102,\"6\":3.3,\"7\":3.64,\"8\":0.29,\"9\":2.96,\"10\":7.5,\"11\":1.2,\"12\":3.0,\"13\":1547},{\"Unnamed: 0.4\":15,\"Unnamed: 0.3\":15,\"Unnamed: 0.2\":15,\"Unnamed: 0.1\":15,\"Unnamed: 0\":15,\"0\":1,\"1\":13.63,\"2\":1.81,\"3\":2.7,\"4\":17.2,\"5\":112,\"6\":2.85,\"7\":2.91,\"8\":0.3,\"9\":1.46,\"10\":7.3,\"11\":1.28,\"12\":2.88,\"13\":1310},{\"Unnamed: 0.4\":16,\"Unnamed: 0.3\":16,\"Unnamed: 0.2\":16,\"Unnamed: 0.1\":16,\"Unnamed: 0\":16,\"0\":1,\"1\":14.3,\"2\":1.92,\"3\":2.72,\"4\":20.0,\"5\":120,\"6\":2.8,\"7\":3.14,\"8\":0.33,\"9\":1.97,\"10\":6.2,\"11\":1.07,\"12\":2.65,\"13\":1280},{\"Unnamed: 0.4\":17,\"Unnamed: 0.3\":17,\"Unnamed: 0.2\":17,\"Unnamed: 0.1\":17,\"Unnamed: 0\":17,\"0\":1,\"1\":13.83,\"2\":1.57,\"3\":2.62,\"4\":20.0,\"5\":115,\"6\":2.95,\"7\":3.4,\"8\":0.4,\"9\":1.72,\"10\":6.6,\"11\":1.13,\"12\":2.57,\"13\":1130},{\"Unnamed: 0.4\":18,\"Unnamed: 0.3\":18,\"Unnamed: 0.2\":18,\"Unnamed: 0.1\":18,\"Unnamed: 0\":18,\"0\":1,\"1\":14.19,\"2\":1.59,\"3\":2.48,\"4\":16.5,\"5\":108,\"6\":3.3,\"7\":3.93,\"8\":0.32,\"9\":1.86,\"10\":8.7,\"11\":1.23,\"12\":2.82,\"13\":1680},{\"Unnamed: 0.4\":19,\"Unnamed: 0.3\":19,\"Unnamed: 0.2\":19,\"Unnamed: 0.1\":19,\"Unnamed: 0\":19,\"0\":1,\"1\":13.64,\"2\":3.1,\"3\":2.56,\"4\":15.2,\"5\":116,\"6\":2.7,\"7\":3.03,\"8\":0.17,\"9\":1.66,\"10\":5.1,\"11\":0.96,\"12\":3.36,\"13\":845},{\"Unnamed: 0.4\":20,\"Unnamed: 0.3\":20,\"Unnamed: 0.2\":20,\"Unnamed: 0.1\":20,\"Unnamed: 0\":20,\"0\":1,\"1\":14.06,\"2\":1.63,\"3\":2.28,\"4\":16.0,\"5\":126,\"6\":3.0,\"7\":3.17,\"8\":0.24,\"9\":2.1,\"10\":5.65,\"11\":1.09,\"12\":3.71,\"13\":780},{\"Unnamed: 0.4\":21,\"Unnamed: 0.3\":21,\"Unnamed: 0.2\":21,\"Unnamed: 0.1\":21,\"Unnamed: 0\":21,\"0\":1,\"1\":12.93,\"2\":3.8,\"3\":2.65,\"4\":18.6,\"5\":102,\"6\":2.41,\"7\":2.41,\"8\":0.25,\"9\":1.98,\"10\":4.5,\"11\":1.03,\"12\":3.52,\"13\":770},{\"Unnamed: 0.4\":22,\"Unnamed: 0.3\":22,\"Unnamed: 0.2\":22,\"Unnamed: 0.1\":22,\"Unnamed: 0\":22,\"0\":1,\"1\":13.71,\"2\":1.86,\"3\":2.36,\"4\":16.6,\"5\":101,\"6\":2.61,\"7\":2.88,\"8\":0.27,\"9\":1.69,\"10\":3.8,\"11\":1.11,\"12\":4.0,\"13\":1035},{\"Unnamed: 0.4\":23,\"Unnamed: 0.3\":23,\"Unnamed: 0.2\":23,\"Unnamed: 0.1\":23,\"Unnamed: 0\":23,\"0\":1,\"1\":12.85,\"2\":1.6,\"3\":2.52,\"4\":17.8,\"5\":95,\"6\":2.48,\"7\":2.37,\"8\":0.26,\"9\":1.46,\"10\":3.93,\"11\":1.09,\"12\":3.63,\"13\":1015},{\"Unnamed: 0.4\":24,\"Unnamed: 0.3\":24,\"Unnamed: 0.2\":24,\"Unnamed: 0.1\":24,\"Unnamed: 0\":24,\"0\":1,\"1\":13.5,\"2\":1.81,\"3\":2.61,\"4\":20.0,\"5\":96,\"6\":2.53,\"7\":2.61,\"8\":0.28,\"9\":1.66,\"10\":3.52,\"11\":1.12,\"12\":3.82,\"13\":845},{\"Unnamed: 0.4\":25,\"Unnamed: 0.3\":25,\"Unnamed: 0.2\":25,\"Unnamed: 0.1\":25,\"Unnamed: 0\":25,\"0\":1,\"1\":13.05,\"2\":2.05,\"3\":3.22,\"4\":25.0,\"5\":124,\"6\":2.63,\"7\":2.68,\"8\":0.47,\"9\":1.92,\"10\":3.58,\"11\":1.13,\"12\":3.2,\"13\":830},{\"Unnamed: 0.4\":26,\"Unnamed: 0.3\":26,\"Unnamed: 0.2\":26,\"Unnamed: 0.1\":26,\"Unnamed: 0\":26,\"0\":1,\"1\":13.39,\"2\":1.77,\"3\":2.62,\"4\":16.1,\"5\":93,\"6\":2.85,\"7\":2.94,\"8\":0.34,\"9\":1.45,\"10\":4.8,\"11\":0.92,\"12\":3.22,\"13\":1195},{\"Unnamed: 0.4\":27,\"Unnamed: 0.3\":27,\"Unnamed: 0.2\":27,\"Unnamed: 0.1\":27,\"Unnamed: 0\":27,\"0\":1,\"1\":13.3,\"2\":1.72,\"3\":2.14,\"4\":17.0,\"5\":94,\"6\":2.4,\"7\":2.19,\"8\":0.27,\"9\":1.35,\"10\":3.95,\"11\":1.02,\"12\":2.77,\"13\":1285},{\"Unnamed: 0.4\":28,\"Unnamed: 0.3\":28,\"Unnamed: 0.2\":28,\"Unnamed: 0.1\":28,\"Unnamed: 0\":28,\"0\":1,\"1\":13.87,\"2\":1.9,\"3\":2.8,\"4\":19.4,\"5\":107,\"6\":2.95,\"7\":2.97,\"8\":0.37,\"9\":1.76,\"10\":4.5,\"11\":1.25,\"12\":3.4,\"13\":915},{\"Unnamed: 0.4\":29,\"Unnamed: 0.3\":29,\"Unnamed: 0.2\":29,\"Unnamed: 0.1\":29,\"Unnamed: 0\":29,\"0\":1,\"1\":14.02,\"2\":1.68,\"3\":2.21,\"4\":16.0,\"5\":96,\"6\":2.65,\"7\":2.33,\"8\":0.26,\"9\":1.98,\"10\":4.7,\"11\":1.04,\"12\":3.59,\"13\":1035},{\"Unnamed: 0.4\":30,\"Unnamed: 0.3\":30,\"Unnamed: 0.2\":30,\"Unnamed: 0.1\":30,\"Unnamed: 0\":30,\"0\":1,\"1\":13.73,\"2\":1.5,\"3\":2.7,\"4\":22.5,\"5\":101,\"6\":3.0,\"7\":3.25,\"8\":0.29,\"9\":2.38,\"10\":5.7,\"11\":1.19,\"12\":2.71,\"13\":1285},{\"Unnamed: 0.4\":31,\"Unnamed: 0.3\":31,\"Unnamed: 0.2\":31,\"Unnamed: 0.1\":31,\"Unnamed: 0\":31,\"0\":1,\"1\":13.58,\"2\":1.66,\"3\":2.36,\"4\":19.1,\"5\":106,\"6\":2.86,\"7\":3.19,\"8\":0.22,\"9\":1.95,\"10\":6.9,\"11\":1.09,\"12\":2.88,\"13\":1515},{\"Unnamed: 0.4\":32,\"Unnamed: 0.3\":32,\"Unnamed: 0.2\":32,\"Unnamed: 0.1\":32,\"Unnamed: 0\":32,\"0\":1,\"1\":13.68,\"2\":1.83,\"3\":2.36,\"4\":17.2,\"5\":104,\"6\":2.42,\"7\":2.69,\"8\":0.42,\"9\":1.97,\"10\":3.84,\"11\":1.23,\"12\":2.87,\"13\":990},{\"Unnamed: 0.4\":33,\"Unnamed: 0.3\":33,\"Unnamed: 0.2\":33,\"Unnamed: 0.1\":33,\"Unnamed: 0\":33,\"0\":1,\"1\":13.76,\"2\":1.53,\"3\":2.7,\"4\":19.5,\"5\":132,\"6\":2.95,\"7\":2.74,\"8\":0.5,\"9\":1.35,\"10\":5.4,\"11\":1.25,\"12\":3.0,\"13\":1235},{\"Unnamed: 0.4\":34,\"Unnamed: 0.3\":34,\"Unnamed: 0.2\":34,\"Unnamed: 0.1\":34,\"Unnamed: 0\":34,\"0\":1,\"1\":13.51,\"2\":1.8,\"3\":2.65,\"4\":19.0,\"5\":110,\"6\":2.35,\"7\":2.53,\"8\":0.29,\"9\":1.54,\"10\":4.2,\"11\":1.1,\"12\":2.87,\"13\":1095},{\"Unnamed: 0.4\":35,\"Unnamed: 0.3\":35,\"Unnamed: 0.2\":35,\"Unnamed: 0.1\":35,\"Unnamed: 0\":35,\"0\":1,\"1\":13.48,\"2\":1.81,\"3\":2.41,\"4\":20.5,\"5\":100,\"6\":2.7,\"7\":2.98,\"8\":0.26,\"9\":1.86,\"10\":5.1,\"11\":1.04,\"12\":3.47,\"13\":920},{\"Unnamed: 0.4\":36,\"Unnamed: 0.3\":36,\"Unnamed: 0.2\":36,\"Unnamed: 0.1\":36,\"Unnamed: 0\":36,\"0\":1,\"1\":13.28,\"2\":1.64,\"3\":2.84,\"4\":15.5,\"5\":110,\"6\":2.6,\"7\":2.68,\"8\":0.34,\"9\":1.36,\"10\":4.6,\"11\":1.09,\"12\":2.78,\"13\":880},{\"Unnamed: 0.4\":37,\"Unnamed: 0.3\":37,\"Unnamed: 0.2\":37,\"Unnamed: 0.1\":37,\"Unnamed: 0\":37,\"0\":1,\"1\":13.05,\"2\":1.65,\"3\":2.55,\"4\":18.0,\"5\":98,\"6\":2.45,\"7\":2.43,\"8\":0.29,\"9\":1.44,\"10\":4.25,\"11\":1.12,\"12\":2.51,\"13\":1105},{\"Unnamed: 0.4\":38,\"Unnamed: 0.3\":38,\"Unnamed: 0.2\":38,\"Unnamed: 0.1\":38,\"Unnamed: 0\":38,\"0\":1,\"1\":13.07,\"2\":1.5,\"3\":2.1,\"4\":15.5,\"5\":98,\"6\":2.4,\"7\":2.64,\"8\":0.28,\"9\":1.37,\"10\":3.7,\"11\":1.18,\"12\":2.69,\"13\":1020},{\"Unnamed: 0.4\":39,\"Unnamed: 0.3\":39,\"Unnamed: 0.2\":39,\"Unnamed: 0.1\":39,\"Unnamed: 0\":39,\"0\":1,\"1\":14.22,\"2\":3.99,\"3\":2.51,\"4\":13.2,\"5\":128,\"6\":3.0,\"7\":3.04,\"8\":0.2,\"9\":2.08,\"10\":5.1,\"11\":0.89,\"12\":3.53,\"13\":760},{\"Unnamed: 0.4\":40,\"Unnamed: 0.3\":40,\"Unnamed: 0.2\":40,\"Unnamed: 0.1\":40,\"Unnamed: 0\":40,\"0\":1,\"1\":13.56,\"2\":1.71,\"3\":2.31,\"4\":16.2,\"5\":117,\"6\":3.15,\"7\":3.29,\"8\":0.34,\"9\":2.34,\"10\":6.13,\"11\":0.95,\"12\":3.38,\"13\":795},{\"Unnamed: 0.4\":41,\"Unnamed: 0.3\":41,\"Unnamed: 0.2\":41,\"Unnamed: 0.1\":41,\"Unnamed: 0\":41,\"0\":1,\"1\":13.41,\"2\":3.84,\"3\":2.12,\"4\":18.8,\"5\":90,\"6\":2.45,\"7\":2.68,\"8\":0.27,\"9\":1.48,\"10\":4.28,\"11\":0.91,\"12\":3.0,\"13\":1035},{\"Unnamed: 0.4\":42,\"Unnamed: 0.3\":42,\"Unnamed: 0.2\":42,\"Unnamed: 0.1\":42,\"Unnamed: 0\":42,\"0\":1,\"1\":13.88,\"2\":1.89,\"3\":2.59,\"4\":15.0,\"5\":101,\"6\":3.25,\"7\":3.56,\"8\":0.17,\"9\":1.7,\"10\":5.43,\"11\":0.88,\"12\":3.56,\"13\":1095},{\"Unnamed: 0.4\":43,\"Unnamed: 0.3\":43,\"Unnamed: 0.2\":43,\"Unnamed: 0.1\":43,\"Unnamed: 0\":43,\"0\":1,\"1\":13.24,\"2\":3.98,\"3\":2.29,\"4\":17.5,\"5\":103,\"6\":2.64,\"7\":2.63,\"8\":0.32,\"9\":1.66,\"10\":4.36,\"11\":0.82,\"12\":3.0,\"13\":680},{\"Unnamed: 0.4\":44,\"Unnamed: 0.3\":44,\"Unnamed: 0.2\":44,\"Unnamed: 0.1\":44,\"Unnamed: 0\":44,\"0\":1,\"1\":13.05,\"2\":1.77,\"3\":2.1,\"4\":17.0,\"5\":107,\"6\":3.0,\"7\":3.0,\"8\":0.28,\"9\":2.03,\"10\":5.04,\"11\":0.88,\"12\":3.35,\"13\":885},{\"Unnamed: 0.4\":45,\"Unnamed: 0.3\":45,\"Unnamed: 0.2\":45,\"Unnamed: 0.1\":45,\"Unnamed: 0\":45,\"0\":1,\"1\":14.21,\"2\":4.04,\"3\":2.44,\"4\":18.9,\"5\":111,\"6\":2.85,\"7\":2.65,\"8\":0.3,\"9\":1.25,\"10\":5.24,\"11\":0.87,\"12\":3.33,\"13\":1080},{\"Unnamed: 0.4\":46,\"Unnamed: 0.3\":46,\"Unnamed: 0.2\":46,\"Unnamed: 0.1\":46,\"Unnamed: 0\":46,\"0\":1,\"1\":14.38,\"2\":3.59,\"3\":2.28,\"4\":16.0,\"5\":102,\"6\":3.25,\"7\":3.17,\"8\":0.27,\"9\":2.19,\"10\":4.9,\"11\":1.04,\"12\":3.44,\"13\":1065},{\"Unnamed: 0.4\":47,\"Unnamed: 0.3\":47,\"Unnamed: 0.2\":47,\"Unnamed: 0.1\":47,\"Unnamed: 0\":47,\"0\":1,\"1\":13.9,\"2\":1.68,\"3\":2.12,\"4\":16.0,\"5\":101,\"6\":3.1,\"7\":3.39,\"8\":0.21,\"9\":2.14,\"10\":6.1,\"11\":0.91,\"12\":3.33,\"13\":985},{\"Unnamed: 0.4\":48,\"Unnamed: 0.3\":48,\"Unnamed: 0.2\":48,\"Unnamed: 0.1\":48,\"Unnamed: 0\":48,\"0\":1,\"1\":14.1,\"2\":2.02,\"3\":2.4,\"4\":18.8,\"5\":103,\"6\":2.75,\"7\":2.92,\"8\":0.32,\"9\":2.38,\"10\":6.2,\"11\":1.07,\"12\":2.75,\"13\":1060},{\"Unnamed: 0.4\":49,\"Unnamed: 0.3\":49,\"Unnamed: 0.2\":49,\"Unnamed: 0.1\":49,\"Unnamed: 0\":49,\"0\":1,\"1\":13.94,\"2\":1.73,\"3\":2.27,\"4\":17.4,\"5\":108,\"6\":2.88,\"7\":3.54,\"8\":0.32,\"9\":2.08,\"10\":8.9,\"11\":1.12,\"12\":3.1,\"13\":1260},{\"Unnamed: 0.4\":50,\"Unnamed: 0.3\":50,\"Unnamed: 0.2\":50,\"Unnamed: 0.1\":50,\"Unnamed: 0\":50,\"0\":1,\"1\":13.05,\"2\":1.73,\"3\":2.04,\"4\":12.4,\"5\":92,\"6\":2.72,\"7\":3.27,\"8\":0.17,\"9\":2.91,\"10\":7.2,\"11\":1.12,\"12\":2.91,\"13\":1150},{\"Unnamed: 0.4\":51,\"Unnamed: 0.3\":51,\"Unnamed: 0.2\":51,\"Unnamed: 0.1\":51,\"Unnamed: 0\":51,\"0\":1,\"1\":13.83,\"2\":1.65,\"3\":2.6,\"4\":17.2,\"5\":94,\"6\":2.45,\"7\":2.99,\"8\":0.22,\"9\":2.29,\"10\":5.6,\"11\":1.24,\"12\":3.37,\"13\":1265},{\"Unnamed: 0.4\":52,\"Unnamed: 0.3\":52,\"Unnamed: 0.2\":52,\"Unnamed: 0.1\":52,\"Unnamed: 0\":52,\"0\":1,\"1\":13.82,\"2\":1.75,\"3\":2.42,\"4\":14.0,\"5\":111,\"6\":3.88,\"7\":3.74,\"8\":0.32,\"9\":1.87,\"10\":7.05,\"11\":1.01,\"12\":3.26,\"13\":1190},{\"Unnamed: 0.4\":53,\"Unnamed: 0.3\":53,\"Unnamed: 0.2\":53,\"Unnamed: 0.1\":53,\"Unnamed: 0\":53,\"0\":1,\"1\":13.77,\"2\":1.9,\"3\":2.68,\"4\":17.1,\"5\":115,\"6\":3.0,\"7\":2.79,\"8\":0.39,\"9\":1.68,\"10\":6.3,\"11\":1.13,\"12\":2.93,\"13\":1375},{\"Unnamed: 0.4\":54,\"Unnamed: 0.3\":54,\"Unnamed: 0.2\":54,\"Unnamed: 0.1\":54,\"Unnamed: 0\":54,\"0\":1,\"1\":13.74,\"2\":1.67,\"3\":2.25,\"4\":16.4,\"5\":118,\"6\":2.6,\"7\":2.9,\"8\":0.21,\"9\":1.62,\"10\":5.85,\"11\":0.92,\"12\":3.2,\"13\":1060},{\"Unnamed: 0.4\":55,\"Unnamed: 0.3\":55,\"Unnamed: 0.2\":55,\"Unnamed: 0.1\":55,\"Unnamed: 0\":55,\"0\":1,\"1\":13.56,\"2\":1.73,\"3\":2.46,\"4\":20.5,\"5\":116,\"6\":2.96,\"7\":2.78,\"8\":0.2,\"9\":2.45,\"10\":6.25,\"11\":0.98,\"12\":3.03,\"13\":1120},{\"Unnamed: 0.4\":56,\"Unnamed: 0.3\":56,\"Unnamed: 0.2\":56,\"Unnamed: 0.1\":56,\"Unnamed: 0\":56,\"0\":1,\"1\":14.22,\"2\":1.7,\"3\":2.3,\"4\":16.3,\"5\":118,\"6\":3.2,\"7\":3.0,\"8\":0.26,\"9\":2.03,\"10\":6.38,\"11\":0.94,\"12\":3.31,\"13\":970},{\"Unnamed: 0.4\":57,\"Unnamed: 0.3\":57,\"Unnamed: 0.2\":57,\"Unnamed: 0.1\":57,\"Unnamed: 0\":57,\"0\":1,\"1\":13.29,\"2\":1.97,\"3\":2.68,\"4\":16.8,\"5\":102,\"6\":3.0,\"7\":3.23,\"8\":0.31,\"9\":1.66,\"10\":6.0,\"11\":1.07,\"12\":2.84,\"13\":1270},{\"Unnamed: 0.4\":58,\"Unnamed: 0.3\":58,\"Unnamed: 0.2\":58,\"Unnamed: 0.1\":58,\"Unnamed: 0\":58,\"0\":1,\"1\":13.72,\"2\":1.43,\"3\":2.5,\"4\":16.7,\"5\":108,\"6\":3.4,\"7\":3.67,\"8\":0.19,\"9\":2.04,\"10\":6.8,\"11\":0.89,\"12\":2.87,\"13\":1285},{\"Unnamed: 0.4\":59,\"Unnamed: 0.3\":59,\"Unnamed: 0.2\":59,\"Unnamed: 0.1\":59,\"Unnamed: 0\":59,\"0\":2,\"1\":12.37,\"2\":0.94,\"3\":1.36,\"4\":10.6,\"5\":88,\"6\":1.98,\"7\":0.57,\"8\":0.28,\"9\":0.42,\"10\":1.95,\"11\":1.05,\"12\":1.82,\"13\":520},{\"Unnamed: 0.4\":60,\"Unnamed: 0.3\":60,\"Unnamed: 0.2\":60,\"Unnamed: 0.1\":60,\"Unnamed: 0\":60,\"0\":2,\"1\":12.33,\"2\":1.1,\"3\":2.28,\"4\":16.0,\"5\":101,\"6\":2.05,\"7\":1.09,\"8\":0.63,\"9\":0.41,\"10\":3.27,\"11\":1.25,\"12\":1.67,\"13\":680},{\"Unnamed: 0.4\":61,\"Unnamed: 0.3\":61,\"Unnamed: 0.2\":61,\"Unnamed: 0.1\":61,\"Unnamed: 0\":61,\"0\":2,\"1\":12.64,\"2\":1.36,\"3\":2.02,\"4\":16.8,\"5\":100,\"6\":2.02,\"7\":1.41,\"8\":0.53,\"9\":0.62,\"10\":5.75,\"11\":0.98,\"12\":1.59,\"13\":450},{\"Unnamed: 0.4\":62,\"Unnamed: 0.3\":62,\"Unnamed: 0.2\":62,\"Unnamed: 0.1\":62,\"Unnamed: 0\":62,\"0\":2,\"1\":13.67,\"2\":1.25,\"3\":1.92,\"4\":18.0,\"5\":94,\"6\":2.1,\"7\":1.79,\"8\":0.32,\"9\":0.73,\"10\":3.8,\"11\":1.23,\"12\":2.46,\"13\":630},{\"Unnamed: 0.4\":63,\"Unnamed: 0.3\":63,\"Unnamed: 0.2\":63,\"Unnamed: 0.1\":63,\"Unnamed: 0\":63,\"0\":2,\"1\":12.37,\"2\":1.13,\"3\":2.16,\"4\":19.0,\"5\":87,\"6\":3.5,\"7\":3.1,\"8\":0.19,\"9\":1.87,\"10\":4.45,\"11\":1.22,\"12\":2.87,\"13\":420},{\"Unnamed: 0.4\":64,\"Unnamed: 0.3\":64,\"Unnamed: 0.2\":64,\"Unnamed: 0.1\":64,\"Unnamed: 0\":64,\"0\":2,\"1\":12.17,\"2\":1.45,\"3\":2.53,\"4\":19.0,\"5\":104,\"6\":1.89,\"7\":1.75,\"8\":0.45,\"9\":1.03,\"10\":2.95,\"11\":1.45,\"12\":2.23,\"13\":355},{\"Unnamed: 0.4\":65,\"Unnamed: 0.3\":65,\"Unnamed: 0.2\":65,\"Unnamed: 0.1\":65,\"Unnamed: 0\":65,\"0\":2,\"1\":12.37,\"2\":1.21,\"3\":2.56,\"4\":18.1,\"5\":98,\"6\":2.42,\"7\":2.65,\"8\":0.37,\"9\":2.08,\"10\":4.6,\"11\":1.19,\"12\":2.3,\"13\":678},{\"Unnamed: 0.4\":66,\"Unnamed: 0.3\":66,\"Unnamed: 0.2\":66,\"Unnamed: 0.1\":66,\"Unnamed: 0\":66,\"0\":2,\"1\":13.11,\"2\":1.01,\"3\":1.7,\"4\":15.0,\"5\":78,\"6\":2.98,\"7\":3.18,\"8\":0.26,\"9\":2.28,\"10\":5.3,\"11\":1.12,\"12\":3.18,\"13\":502},{\"Unnamed: 0.4\":67,\"Unnamed: 0.3\":67,\"Unnamed: 0.2\":67,\"Unnamed: 0.1\":67,\"Unnamed: 0\":67,\"0\":2,\"1\":12.37,\"2\":1.17,\"3\":1.92,\"4\":19.6,\"5\":78,\"6\":2.11,\"7\":2.0,\"8\":0.27,\"9\":1.04,\"10\":4.68,\"11\":1.12,\"12\":3.48,\"13\":510},{\"Unnamed: 0.4\":68,\"Unnamed: 0.3\":68,\"Unnamed: 0.2\":68,\"Unnamed: 0.1\":68,\"Unnamed: 0\":68,\"0\":2,\"1\":13.34,\"2\":0.94,\"3\":2.36,\"4\":17.0,\"5\":110,\"6\":2.53,\"7\":1.3,\"8\":0.55,\"9\":0.42,\"10\":3.17,\"11\":1.02,\"12\":1.93,\"13\":750},{\"Unnamed: 0.4\":69,\"Unnamed: 0.3\":69,\"Unnamed: 0.2\":69,\"Unnamed: 0.1\":69,\"Unnamed: 0\":69,\"0\":2,\"1\":12.21,\"2\":1.19,\"3\":1.75,\"4\":16.8,\"5\":151,\"6\":1.85,\"7\":1.28,\"8\":0.14,\"9\":2.5,\"10\":2.85,\"11\":1.28,\"12\":3.07,\"13\":718},{\"Unnamed: 0.4\":70,\"Unnamed: 0.3\":70,\"Unnamed: 0.2\":70,\"Unnamed: 0.1\":70,\"Unnamed: 0\":70,\"0\":2,\"1\":12.29,\"2\":1.61,\"3\":2.21,\"4\":20.4,\"5\":103,\"6\":1.1,\"7\":1.02,\"8\":0.37,\"9\":1.46,\"10\":3.05,\"11\":0.906,\"12\":1.82,\"13\":870},{\"Unnamed: 0.4\":71,\"Unnamed: 0.3\":71,\"Unnamed: 0.2\":71,\"Unnamed: 0.1\":71,\"Unnamed: 0\":71,\"0\":2,\"1\":13.86,\"2\":1.51,\"3\":2.67,\"4\":25.0,\"5\":86,\"6\":2.95,\"7\":2.86,\"8\":0.21,\"9\":1.87,\"10\":3.38,\"11\":1.36,\"12\":3.16,\"13\":410},{\"Unnamed: 0.4\":72,\"Unnamed: 0.3\":72,\"Unnamed: 0.2\":72,\"Unnamed: 0.1\":72,\"Unnamed: 0\":72,\"0\":2,\"1\":13.49,\"2\":1.66,\"3\":2.24,\"4\":24.0,\"5\":87,\"6\":1.88,\"7\":1.84,\"8\":0.27,\"9\":1.03,\"10\":3.74,\"11\":0.98,\"12\":2.78,\"13\":472},{\"Unnamed: 0.4\":73,\"Unnamed: 0.3\":73,\"Unnamed: 0.2\":73,\"Unnamed: 0.1\":73,\"Unnamed: 0\":73,\"0\":2,\"1\":12.99,\"2\":1.67,\"3\":2.6,\"4\":30.0,\"5\":139,\"6\":3.3,\"7\":2.89,\"8\":0.21,\"9\":1.96,\"10\":3.35,\"11\":1.31,\"12\":3.5,\"13\":985},{\"Unnamed: 0.4\":74,\"Unnamed: 0.3\":74,\"Unnamed: 0.2\":74,\"Unnamed: 0.1\":74,\"Unnamed: 0\":74,\"0\":2,\"1\":11.96,\"2\":1.09,\"3\":2.3,\"4\":21.0,\"5\":101,\"6\":3.38,\"7\":2.14,\"8\":0.13,\"9\":1.65,\"10\":3.21,\"11\":0.99,\"12\":3.13,\"13\":886},{\"Unnamed: 0.4\":75,\"Unnamed: 0.3\":75,\"Unnamed: 0.2\":75,\"Unnamed: 0.1\":75,\"Unnamed: 0\":75,\"0\":2,\"1\":11.66,\"2\":1.88,\"3\":1.92,\"4\":16.0,\"5\":97,\"6\":1.61,\"7\":1.57,\"8\":0.34,\"9\":1.15,\"10\":3.8,\"11\":1.23,\"12\":2.14,\"13\":428},{\"Unnamed: 0.4\":76,\"Unnamed: 0.3\":76,\"Unnamed: 0.2\":76,\"Unnamed: 0.1\":76,\"Unnamed: 0\":76,\"0\":2,\"1\":13.03,\"2\":0.9,\"3\":1.71,\"4\":16.0,\"5\":86,\"6\":1.95,\"7\":2.03,\"8\":0.24,\"9\":1.46,\"10\":4.6,\"11\":1.19,\"12\":2.48,\"13\":392},{\"Unnamed: 0.4\":77,\"Unnamed: 0.3\":77,\"Unnamed: 0.2\":77,\"Unnamed: 0.1\":77,\"Unnamed: 0\":77,\"0\":2,\"1\":11.84,\"2\":2.89,\"3\":2.23,\"4\":18.0,\"5\":112,\"6\":1.72,\"7\":1.32,\"8\":0.43,\"9\":0.95,\"10\":2.65,\"11\":0.96,\"12\":2.52,\"13\":500},{\"Unnamed: 0.4\":78,\"Unnamed: 0.3\":78,\"Unnamed: 0.2\":78,\"Unnamed: 0.1\":78,\"Unnamed: 0\":78,\"0\":2,\"1\":12.33,\"2\":0.99,\"3\":1.95,\"4\":14.8,\"5\":136,\"6\":1.9,\"7\":1.85,\"8\":0.35,\"9\":2.76,\"10\":3.4,\"11\":1.06,\"12\":2.31,\"13\":750},{\"Unnamed: 0.4\":79,\"Unnamed: 0.3\":79,\"Unnamed: 0.2\":79,\"Unnamed: 0.1\":79,\"Unnamed: 0\":79,\"0\":2,\"1\":12.7,\"2\":3.87,\"3\":2.4,\"4\":23.0,\"5\":101,\"6\":2.83,\"7\":2.55,\"8\":0.43,\"9\":1.95,\"10\":2.57,\"11\":1.19,\"12\":3.13,\"13\":463},{\"Unnamed: 0.4\":80,\"Unnamed: 0.3\":80,\"Unnamed: 0.2\":80,\"Unnamed: 0.1\":80,\"Unnamed: 0\":80,\"0\":2,\"1\":12.0,\"2\":0.92,\"3\":2.0,\"4\":19.0,\"5\":86,\"6\":2.42,\"7\":2.26,\"8\":0.3,\"9\":1.43,\"10\":2.5,\"11\":1.38,\"12\":3.12,\"13\":278},{\"Unnamed: 0.4\":81,\"Unnamed: 0.3\":81,\"Unnamed: 0.2\":81,\"Unnamed: 0.1\":81,\"Unnamed: 0\":81,\"0\":2,\"1\":12.72,\"2\":1.81,\"3\":2.2,\"4\":18.8,\"5\":86,\"6\":2.2,\"7\":2.53,\"8\":0.26,\"9\":1.77,\"10\":3.9,\"11\":1.16,\"12\":3.14,\"13\":714},{\"Unnamed: 0.4\":82,\"Unnamed: 0.3\":82,\"Unnamed: 0.2\":82,\"Unnamed: 0.1\":82,\"Unnamed: 0\":82,\"0\":2,\"1\":12.08,\"2\":1.13,\"3\":2.51,\"4\":24.0,\"5\":78,\"6\":2.0,\"7\":1.58,\"8\":0.4,\"9\":1.4,\"10\":2.2,\"11\":1.31,\"12\":2.72,\"13\":630},{\"Unnamed: 0.4\":83,\"Unnamed: 0.3\":83,\"Unnamed: 0.2\":83,\"Unnamed: 0.1\":83,\"Unnamed: 0\":83,\"0\":2,\"1\":13.05,\"2\":3.86,\"3\":2.32,\"4\":22.5,\"5\":85,\"6\":1.65,\"7\":1.59,\"8\":0.61,\"9\":1.62,\"10\":4.8,\"11\":0.84,\"12\":2.01,\"13\":515},{\"Unnamed: 0.4\":84,\"Unnamed: 0.3\":84,\"Unnamed: 0.2\":84,\"Unnamed: 0.1\":84,\"Unnamed: 0\":84,\"0\":2,\"1\":11.84,\"2\":0.89,\"3\":2.58,\"4\":18.0,\"5\":94,\"6\":2.2,\"7\":2.21,\"8\":0.22,\"9\":2.35,\"10\":3.05,\"11\":0.79,\"12\":3.08,\"13\":520},{\"Unnamed: 0.4\":85,\"Unnamed: 0.3\":85,\"Unnamed: 0.2\":85,\"Unnamed: 0.1\":85,\"Unnamed: 0\":85,\"0\":2,\"1\":12.67,\"2\":0.98,\"3\":2.24,\"4\":18.0,\"5\":99,\"6\":2.2,\"7\":1.94,\"8\":0.3,\"9\":1.46,\"10\":2.62,\"11\":1.23,\"12\":3.16,\"13\":450},{\"Unnamed: 0.4\":86,\"Unnamed: 0.3\":86,\"Unnamed: 0.2\":86,\"Unnamed: 0.1\":86,\"Unnamed: 0\":86,\"0\":2,\"1\":12.16,\"2\":1.61,\"3\":2.31,\"4\":22.8,\"5\":90,\"6\":1.78,\"7\":1.69,\"8\":0.43,\"9\":1.56,\"10\":2.45,\"11\":1.33,\"12\":2.26,\"13\":495},{\"Unnamed: 0.4\":87,\"Unnamed: 0.3\":87,\"Unnamed: 0.2\":87,\"Unnamed: 0.1\":87,\"Unnamed: 0\":87,\"0\":2,\"1\":11.65,\"2\":1.67,\"3\":2.62,\"4\":26.0,\"5\":88,\"6\":1.92,\"7\":1.61,\"8\":0.4,\"9\":1.34,\"10\":2.6,\"11\":1.36,\"12\":3.21,\"13\":562},{\"Unnamed: 0.4\":88,\"Unnamed: 0.3\":88,\"Unnamed: 0.2\":88,\"Unnamed: 0.1\":88,\"Unnamed: 0\":88,\"0\":2,\"1\":11.64,\"2\":2.06,\"3\":2.46,\"4\":21.6,\"5\":84,\"6\":1.95,\"7\":1.69,\"8\":0.48,\"9\":1.35,\"10\":2.8,\"11\":1.0,\"12\":2.75,\"13\":680},{\"Unnamed: 0.4\":89,\"Unnamed: 0.3\":89,\"Unnamed: 0.2\":89,\"Unnamed: 0.1\":89,\"Unnamed: 0\":89,\"0\":2,\"1\":12.08,\"2\":1.33,\"3\":2.3,\"4\":23.6,\"5\":70,\"6\":2.2,\"7\":1.59,\"8\":0.42,\"9\":1.38,\"10\":1.74,\"11\":1.07,\"12\":3.21,\"13\":625},{\"Unnamed: 0.4\":90,\"Unnamed: 0.3\":90,\"Unnamed: 0.2\":90,\"Unnamed: 0.1\":90,\"Unnamed: 0\":90,\"0\":2,\"1\":12.08,\"2\":1.83,\"3\":2.32,\"4\":18.5,\"5\":81,\"6\":1.6,\"7\":1.5,\"8\":0.52,\"9\":1.64,\"10\":2.4,\"11\":1.08,\"12\":2.27,\"13\":480},{\"Unnamed: 0.4\":91,\"Unnamed: 0.3\":91,\"Unnamed: 0.2\":91,\"Unnamed: 0.1\":91,\"Unnamed: 0\":91,\"0\":2,\"1\":12.0,\"2\":1.51,\"3\":2.42,\"4\":22.0,\"5\":86,\"6\":1.45,\"7\":1.25,\"8\":0.5,\"9\":1.63,\"10\":3.6,\"11\":1.05,\"12\":2.65,\"13\":450},{\"Unnamed: 0.4\":92,\"Unnamed: 0.3\":92,\"Unnamed: 0.2\":92,\"Unnamed: 0.1\":92,\"Unnamed: 0\":92,\"0\":2,\"1\":12.69,\"2\":1.53,\"3\":2.26,\"4\":20.7,\"5\":80,\"6\":1.38,\"7\":1.46,\"8\":0.58,\"9\":1.62,\"10\":3.05,\"11\":0.96,\"12\":2.06,\"13\":495},{\"Unnamed: 0.4\":93,\"Unnamed: 0.3\":93,\"Unnamed: 0.2\":93,\"Unnamed: 0.1\":93,\"Unnamed: 0\":93,\"0\":2,\"1\":12.29,\"2\":2.83,\"3\":2.22,\"4\":18.0,\"5\":88,\"6\":2.45,\"7\":2.25,\"8\":0.25,\"9\":1.99,\"10\":2.15,\"11\":1.15,\"12\":3.3,\"13\":290},{\"Unnamed: 0.4\":94,\"Unnamed: 0.3\":94,\"Unnamed: 0.2\":94,\"Unnamed: 0.1\":94,\"Unnamed: 0\":94,\"0\":2,\"1\":11.62,\"2\":1.99,\"3\":2.28,\"4\":18.0,\"5\":98,\"6\":3.02,\"7\":2.26,\"8\":0.17,\"9\":1.35,\"10\":3.25,\"11\":1.16,\"12\":2.96,\"13\":345},{\"Unnamed: 0.4\":95,\"Unnamed: 0.3\":95,\"Unnamed: 0.2\":95,\"Unnamed: 0.1\":95,\"Unnamed: 0\":95,\"0\":2,\"1\":12.47,\"2\":1.52,\"3\":2.2,\"4\":19.0,\"5\":162,\"6\":2.5,\"7\":2.27,\"8\":0.32,\"9\":3.28,\"10\":2.6,\"11\":1.16,\"12\":2.63,\"13\":937},{\"Unnamed: 0.4\":96,\"Unnamed: 0.3\":96,\"Unnamed: 0.2\":96,\"Unnamed: 0.1\":96,\"Unnamed: 0\":96,\"0\":2,\"1\":11.81,\"2\":2.12,\"3\":2.74,\"4\":21.5,\"5\":134,\"6\":1.6,\"7\":0.99,\"8\":0.14,\"9\":1.56,\"10\":2.5,\"11\":0.95,\"12\":2.26,\"13\":625},{\"Unnamed: 0.4\":97,\"Unnamed: 0.3\":97,\"Unnamed: 0.2\":97,\"Unnamed: 0.1\":97,\"Unnamed: 0\":97,\"0\":2,\"1\":12.29,\"2\":1.41,\"3\":1.98,\"4\":16.0,\"5\":85,\"6\":2.55,\"7\":2.5,\"8\":0.29,\"9\":1.77,\"10\":2.9,\"11\":1.23,\"12\":2.74,\"13\":428},{\"Unnamed: 0.4\":98,\"Unnamed: 0.3\":98,\"Unnamed: 0.2\":98,\"Unnamed: 0.1\":98,\"Unnamed: 0\":98,\"0\":2,\"1\":12.37,\"2\":1.07,\"3\":2.1,\"4\":18.5,\"5\":88,\"6\":3.52,\"7\":3.75,\"8\":0.24,\"9\":1.95,\"10\":4.5,\"11\":1.04,\"12\":2.77,\"13\":660},{\"Unnamed: 0.4\":99,\"Unnamed: 0.3\":99,\"Unnamed: 0.2\":99,\"Unnamed: 0.1\":99,\"Unnamed: 0\":99,\"0\":2,\"1\":12.29,\"2\":3.17,\"3\":2.21,\"4\":18.0,\"5\":88,\"6\":2.85,\"7\":2.99,\"8\":0.45,\"9\":2.81,\"10\":2.3,\"11\":1.42,\"12\":2.83,\"13\":406},{\"Unnamed: 0.4\":100,\"Unnamed: 0.3\":100,\"Unnamed: 0.2\":100,\"Unnamed: 0.1\":100,\"Unnamed: 0\":100,\"0\":2,\"1\":12.08,\"2\":2.08,\"3\":1.7,\"4\":17.5,\"5\":97,\"6\":2.23,\"7\":2.17,\"8\":0.26,\"9\":1.4,\"10\":3.3,\"11\":1.27,\"12\":2.96,\"13\":710},{\"Unnamed: 0.4\":101,\"Unnamed: 0.3\":101,\"Unnamed: 0.2\":101,\"Unnamed: 0.1\":101,\"Unnamed: 0\":101,\"0\":2,\"1\":12.6,\"2\":1.34,\"3\":1.9,\"4\":18.5,\"5\":88,\"6\":1.45,\"7\":1.36,\"8\":0.29,\"9\":1.35,\"10\":2.45,\"11\":1.04,\"12\":2.77,\"13\":562},{\"Unnamed: 0.4\":102,\"Unnamed: 0.3\":102,\"Unnamed: 0.2\":102,\"Unnamed: 0.1\":102,\"Unnamed: 0\":102,\"0\":2,\"1\":12.34,\"2\":2.45,\"3\":2.46,\"4\":21.0,\"5\":98,\"6\":2.56,\"7\":2.11,\"8\":0.34,\"9\":1.31,\"10\":2.8,\"11\":0.8,\"12\":3.38,\"13\":438},{\"Unnamed: 0.4\":103,\"Unnamed: 0.3\":103,\"Unnamed: 0.2\":103,\"Unnamed: 0.1\":103,\"Unnamed: 0\":103,\"0\":2,\"1\":11.82,\"2\":1.72,\"3\":1.88,\"4\":19.5,\"5\":86,\"6\":2.5,\"7\":1.64,\"8\":0.37,\"9\":1.42,\"10\":2.06,\"11\":0.94,\"12\":2.44,\"13\":415},{\"Unnamed: 0.4\":104,\"Unnamed: 0.3\":104,\"Unnamed: 0.2\":104,\"Unnamed: 0.1\":104,\"Unnamed: 0\":104,\"0\":2,\"1\":12.51,\"2\":1.73,\"3\":1.98,\"4\":20.5,\"5\":85,\"6\":2.2,\"7\":1.92,\"8\":0.32,\"9\":1.48,\"10\":2.94,\"11\":1.04,\"12\":3.57,\"13\":672},{\"Unnamed: 0.4\":105,\"Unnamed: 0.3\":105,\"Unnamed: 0.2\":105,\"Unnamed: 0.1\":105,\"Unnamed: 0\":105,\"0\":2,\"1\":12.42,\"2\":2.55,\"3\":2.27,\"4\":22.0,\"5\":90,\"6\":1.68,\"7\":1.84,\"8\":0.66,\"9\":1.42,\"10\":2.7,\"11\":0.86,\"12\":3.3,\"13\":315},{\"Unnamed: 0.4\":106,\"Unnamed: 0.3\":106,\"Unnamed: 0.2\":106,\"Unnamed: 0.1\":106,\"Unnamed: 0\":106,\"0\":2,\"1\":12.25,\"2\":1.73,\"3\":2.12,\"4\":19.0,\"5\":80,\"6\":1.65,\"7\":2.03,\"8\":0.37,\"9\":1.63,\"10\":3.4,\"11\":1.0,\"12\":3.17,\"13\":510},{\"Unnamed: 0.4\":107,\"Unnamed: 0.3\":107,\"Unnamed: 0.2\":107,\"Unnamed: 0.1\":107,\"Unnamed: 0\":107,\"0\":2,\"1\":12.72,\"2\":1.75,\"3\":2.28,\"4\":22.5,\"5\":84,\"6\":1.38,\"7\":1.76,\"8\":0.48,\"9\":1.63,\"10\":3.3,\"11\":0.88,\"12\":2.42,\"13\":488},{\"Unnamed: 0.4\":108,\"Unnamed: 0.3\":108,\"Unnamed: 0.2\":108,\"Unnamed: 0.1\":108,\"Unnamed: 0\":108,\"0\":2,\"1\":12.22,\"2\":1.29,\"3\":1.94,\"4\":19.0,\"5\":92,\"6\":2.36,\"7\":2.04,\"8\":0.39,\"9\":2.08,\"10\":2.7,\"11\":0.86,\"12\":3.02,\"13\":312},{\"Unnamed: 0.4\":109,\"Unnamed: 0.3\":109,\"Unnamed: 0.2\":109,\"Unnamed: 0.1\":109,\"Unnamed: 0\":109,\"0\":2,\"1\":11.61,\"2\":1.35,\"3\":2.7,\"4\":20.0,\"5\":94,\"6\":2.74,\"7\":2.92,\"8\":0.29,\"9\":2.49,\"10\":2.65,\"11\":0.96,\"12\":3.26,\"13\":680},{\"Unnamed: 0.4\":110,\"Unnamed: 0.3\":110,\"Unnamed: 0.2\":110,\"Unnamed: 0.1\":110,\"Unnamed: 0\":110,\"0\":2,\"1\":11.46,\"2\":3.74,\"3\":1.82,\"4\":19.5,\"5\":107,\"6\":3.18,\"7\":2.58,\"8\":0.24,\"9\":3.58,\"10\":2.9,\"11\":0.75,\"12\":2.81,\"13\":562},{\"Unnamed: 0.4\":111,\"Unnamed: 0.3\":111,\"Unnamed: 0.2\":111,\"Unnamed: 0.1\":111,\"Unnamed: 0\":111,\"0\":2,\"1\":12.52,\"2\":2.43,\"3\":2.17,\"4\":21.0,\"5\":88,\"6\":2.55,\"7\":2.27,\"8\":0.26,\"9\":1.22,\"10\":2.0,\"11\":0.9,\"12\":2.78,\"13\":325},{\"Unnamed: 0.4\":112,\"Unnamed: 0.3\":112,\"Unnamed: 0.2\":112,\"Unnamed: 0.1\":112,\"Unnamed: 0\":112,\"0\":2,\"1\":11.76,\"2\":2.68,\"3\":2.92,\"4\":20.0,\"5\":103,\"6\":1.75,\"7\":2.03,\"8\":0.6,\"9\":1.05,\"10\":3.8,\"11\":1.23,\"12\":2.5,\"13\":607},{\"Unnamed: 0.4\":113,\"Unnamed: 0.3\":113,\"Unnamed: 0.2\":113,\"Unnamed: 0.1\":113,\"Unnamed: 0\":113,\"0\":2,\"1\":11.41,\"2\":0.74,\"3\":2.5,\"4\":21.0,\"5\":88,\"6\":2.48,\"7\":2.01,\"8\":0.42,\"9\":1.44,\"10\":3.08,\"11\":1.1,\"12\":2.31,\"13\":434},{\"Unnamed: 0.4\":114,\"Unnamed: 0.3\":114,\"Unnamed: 0.2\":114,\"Unnamed: 0.1\":114,\"Unnamed: 0\":114,\"0\":2,\"1\":12.08,\"2\":1.39,\"3\":2.5,\"4\":22.5,\"5\":84,\"6\":2.56,\"7\":2.29,\"8\":0.43,\"9\":1.04,\"10\":2.9,\"11\":0.93,\"12\":3.19,\"13\":385},{\"Unnamed: 0.4\":115,\"Unnamed: 0.3\":115,\"Unnamed: 0.2\":115,\"Unnamed: 0.1\":115,\"Unnamed: 0\":115,\"0\":2,\"1\":11.03,\"2\":1.51,\"3\":2.2,\"4\":21.5,\"5\":85,\"6\":2.46,\"7\":2.17,\"8\":0.52,\"9\":2.01,\"10\":1.9,\"11\":1.71,\"12\":2.87,\"13\":407},{\"Unnamed: 0.4\":116,\"Unnamed: 0.3\":116,\"Unnamed: 0.2\":116,\"Unnamed: 0.1\":116,\"Unnamed: 0\":116,\"0\":2,\"1\":11.82,\"2\":1.47,\"3\":1.99,\"4\":20.8,\"5\":86,\"6\":1.98,\"7\":1.6,\"8\":0.3,\"9\":1.53,\"10\":1.95,\"11\":0.95,\"12\":3.33,\"13\":495},{\"Unnamed: 0.4\":117,\"Unnamed: 0.3\":117,\"Unnamed: 0.2\":117,\"Unnamed: 0.1\":117,\"Unnamed: 0\":117,\"0\":2,\"1\":12.42,\"2\":1.61,\"3\":2.19,\"4\":22.5,\"5\":108,\"6\":2.0,\"7\":2.09,\"8\":0.34,\"9\":1.61,\"10\":2.06,\"11\":1.06,\"12\":2.96,\"13\":345},{\"Unnamed: 0.4\":118,\"Unnamed: 0.3\":118,\"Unnamed: 0.2\":118,\"Unnamed: 0.1\":118,\"Unnamed: 0\":118,\"0\":2,\"1\":12.77,\"2\":3.43,\"3\":1.98,\"4\":16.0,\"5\":80,\"6\":1.63,\"7\":1.25,\"8\":0.43,\"9\":0.83,\"10\":3.4,\"11\":0.7,\"12\":2.12,\"13\":372},{\"Unnamed: 0.4\":119,\"Unnamed: 0.3\":119,\"Unnamed: 0.2\":119,\"Unnamed: 0.1\":119,\"Unnamed: 0\":119,\"0\":2,\"1\":12.0,\"2\":3.43,\"3\":2.0,\"4\":19.0,\"5\":87,\"6\":2.0,\"7\":1.64,\"8\":0.37,\"9\":1.87,\"10\":1.28,\"11\":0.93,\"12\":3.05,\"13\":564},{\"Unnamed: 0.4\":120,\"Unnamed: 0.3\":120,\"Unnamed: 0.2\":120,\"Unnamed: 0.1\":120,\"Unnamed: 0\":120,\"0\":2,\"1\":11.45,\"2\":2.4,\"3\":2.42,\"4\":20.0,\"5\":96,\"6\":2.9,\"7\":2.79,\"8\":0.32,\"9\":1.83,\"10\":3.25,\"11\":0.8,\"12\":3.39,\"13\":625},{\"Unnamed: 0.4\":121,\"Unnamed: 0.3\":121,\"Unnamed: 0.2\":121,\"Unnamed: 0.1\":121,\"Unnamed: 0\":121,\"0\":2,\"1\":11.56,\"2\":2.05,\"3\":3.23,\"4\":28.5,\"5\":119,\"6\":3.18,\"7\":5.08,\"8\":0.47,\"9\":1.87,\"10\":6.0,\"11\":0.93,\"12\":3.69,\"13\":465},{\"Unnamed: 0.4\":122,\"Unnamed: 0.3\":122,\"Unnamed: 0.2\":122,\"Unnamed: 0.1\":122,\"Unnamed: 0\":122,\"0\":2,\"1\":12.42,\"2\":4.43,\"3\":2.73,\"4\":26.5,\"5\":102,\"6\":2.2,\"7\":2.13,\"8\":0.43,\"9\":1.71,\"10\":2.08,\"11\":0.92,\"12\":3.12,\"13\":365},{\"Unnamed: 0.4\":123,\"Unnamed: 0.3\":123,\"Unnamed: 0.2\":123,\"Unnamed: 0.1\":123,\"Unnamed: 0\":123,\"0\":2,\"1\":13.05,\"2\":5.8,\"3\":2.13,\"4\":21.5,\"5\":86,\"6\":2.62,\"7\":2.65,\"8\":0.3,\"9\":2.01,\"10\":2.6,\"11\":0.73,\"12\":3.1,\"13\":380},{\"Unnamed: 0.4\":124,\"Unnamed: 0.3\":124,\"Unnamed: 0.2\":124,\"Unnamed: 0.1\":124,\"Unnamed: 0\":124,\"0\":2,\"1\":11.87,\"2\":4.31,\"3\":2.39,\"4\":21.0,\"5\":82,\"6\":2.86,\"7\":3.03,\"8\":0.21,\"9\":2.91,\"10\":2.8,\"11\":0.75,\"12\":3.64,\"13\":380},{\"Unnamed: 0.4\":125,\"Unnamed: 0.3\":125,\"Unnamed: 0.2\":125,\"Unnamed: 0.1\":125,\"Unnamed: 0\":125,\"0\":2,\"1\":12.07,\"2\":2.16,\"3\":2.17,\"4\":21.0,\"5\":85,\"6\":2.6,\"7\":2.65,\"8\":0.37,\"9\":1.35,\"10\":2.76,\"11\":0.86,\"12\":3.28,\"13\":378},{\"Unnamed: 0.4\":126,\"Unnamed: 0.3\":126,\"Unnamed: 0.2\":126,\"Unnamed: 0.1\":126,\"Unnamed: 0\":126,\"0\":2,\"1\":12.43,\"2\":1.53,\"3\":2.29,\"4\":21.5,\"5\":86,\"6\":2.74,\"7\":3.15,\"8\":0.39,\"9\":1.77,\"10\":3.94,\"11\":0.69,\"12\":2.84,\"13\":352},{\"Unnamed: 0.4\":127,\"Unnamed: 0.3\":127,\"Unnamed: 0.2\":127,\"Unnamed: 0.1\":127,\"Unnamed: 0\":127,\"0\":2,\"1\":11.79,\"2\":2.13,\"3\":2.78,\"4\":28.5,\"5\":92,\"6\":2.13,\"7\":2.24,\"8\":0.58,\"9\":1.76,\"10\":3.0,\"11\":0.97,\"12\":2.44,\"13\":466},{\"Unnamed: 0.4\":128,\"Unnamed: 0.3\":128,\"Unnamed: 0.2\":128,\"Unnamed: 0.1\":128,\"Unnamed: 0\":128,\"0\":2,\"1\":12.37,\"2\":1.63,\"3\":2.3,\"4\":24.5,\"5\":88,\"6\":2.22,\"7\":2.45,\"8\":0.4,\"9\":1.9,\"10\":2.12,\"11\":0.89,\"12\":2.78,\"13\":342},{\"Unnamed: 0.4\":129,\"Unnamed: 0.3\":129,\"Unnamed: 0.2\":129,\"Unnamed: 0.1\":129,\"Unnamed: 0\":129,\"0\":2,\"1\":12.04,\"2\":4.3,\"3\":2.38,\"4\":22.0,\"5\":80,\"6\":2.1,\"7\":1.75,\"8\":0.42,\"9\":1.35,\"10\":2.6,\"11\":0.79,\"12\":2.57,\"13\":580},{\"Unnamed: 0.4\":130,\"Unnamed: 0.3\":130,\"Unnamed: 0.2\":130,\"Unnamed: 0.1\":130,\"Unnamed: 0\":130,\"0\":3,\"1\":12.86,\"2\":1.35,\"3\":2.32,\"4\":18.0,\"5\":122,\"6\":1.51,\"7\":1.25,\"8\":0.21,\"9\":0.94,\"10\":4.1,\"11\":0.76,\"12\":1.29,\"13\":630},{\"Unnamed: 0.4\":131,\"Unnamed: 0.3\":131,\"Unnamed: 0.2\":131,\"Unnamed: 0.1\":131,\"Unnamed: 0\":131,\"0\":3,\"1\":12.88,\"2\":2.99,\"3\":2.4,\"4\":20.0,\"5\":104,\"6\":1.3,\"7\":1.22,\"8\":0.24,\"9\":0.83,\"10\":5.4,\"11\":0.74,\"12\":1.42,\"13\":530},{\"Unnamed: 0.4\":132,\"Unnamed: 0.3\":132,\"Unnamed: 0.2\":132,\"Unnamed: 0.1\":132,\"Unnamed: 0\":132,\"0\":3,\"1\":12.81,\"2\":2.31,\"3\":2.4,\"4\":24.0,\"5\":98,\"6\":1.15,\"7\":1.09,\"8\":0.27,\"9\":0.83,\"10\":5.7,\"11\":0.66,\"12\":1.36,\"13\":560},{\"Unnamed: 0.4\":133,\"Unnamed: 0.3\":133,\"Unnamed: 0.2\":133,\"Unnamed: 0.1\":133,\"Unnamed: 0\":133,\"0\":3,\"1\":12.7,\"2\":3.55,\"3\":2.36,\"4\":21.5,\"5\":106,\"6\":1.7,\"7\":1.2,\"8\":0.17,\"9\":0.84,\"10\":5.0,\"11\":0.78,\"12\":1.29,\"13\":600},{\"Unnamed: 0.4\":134,\"Unnamed: 0.3\":134,\"Unnamed: 0.2\":134,\"Unnamed: 0.1\":134,\"Unnamed: 0\":134,\"0\":3,\"1\":12.51,\"2\":1.24,\"3\":2.25,\"4\":17.5,\"5\":85,\"6\":2.0,\"7\":0.58,\"8\":0.6,\"9\":1.25,\"10\":5.45,\"11\":0.75,\"12\":1.51,\"13\":650},{\"Unnamed: 0.4\":135,\"Unnamed: 0.3\":135,\"Unnamed: 0.2\":135,\"Unnamed: 0.1\":135,\"Unnamed: 0\":135,\"0\":3,\"1\":12.6,\"2\":2.46,\"3\":2.2,\"4\":18.5,\"5\":94,\"6\":1.62,\"7\":0.66,\"8\":0.63,\"9\":0.94,\"10\":7.1,\"11\":0.73,\"12\":1.58,\"13\":695},{\"Unnamed: 0.4\":136,\"Unnamed: 0.3\":136,\"Unnamed: 0.2\":136,\"Unnamed: 0.1\":136,\"Unnamed: 0\":136,\"0\":3,\"1\":12.25,\"2\":4.72,\"3\":2.54,\"4\":21.0,\"5\":89,\"6\":1.38,\"7\":0.47,\"8\":0.53,\"9\":0.8,\"10\":3.85,\"11\":0.75,\"12\":1.27,\"13\":720},{\"Unnamed: 0.4\":137,\"Unnamed: 0.3\":137,\"Unnamed: 0.2\":137,\"Unnamed: 0.1\":137,\"Unnamed: 0\":137,\"0\":3,\"1\":12.53,\"2\":5.51,\"3\":2.64,\"4\":25.0,\"5\":96,\"6\":1.79,\"7\":0.6,\"8\":0.63,\"9\":1.1,\"10\":5.0,\"11\":0.82,\"12\":1.69,\"13\":515},{\"Unnamed: 0.4\":138,\"Unnamed: 0.3\":138,\"Unnamed: 0.2\":138,\"Unnamed: 0.1\":138,\"Unnamed: 0\":138,\"0\":3,\"1\":13.49,\"2\":3.59,\"3\":2.19,\"4\":19.5,\"5\":88,\"6\":1.62,\"7\":0.48,\"8\":0.58,\"9\":0.88,\"10\":5.7,\"11\":0.81,\"12\":1.82,\"13\":580},{\"Unnamed: 0.4\":139,\"Unnamed: 0.3\":139,\"Unnamed: 0.2\":139,\"Unnamed: 0.1\":139,\"Unnamed: 0\":139,\"0\":3,\"1\":12.84,\"2\":2.96,\"3\":2.61,\"4\":24.0,\"5\":101,\"6\":2.32,\"7\":0.6,\"8\":0.53,\"9\":0.81,\"10\":4.92,\"11\":0.89,\"12\":2.15,\"13\":590},{\"Unnamed: 0.4\":140,\"Unnamed: 0.3\":140,\"Unnamed: 0.2\":140,\"Unnamed: 0.1\":140,\"Unnamed: 0\":140,\"0\":3,\"1\":12.93,\"2\":2.81,\"3\":2.7,\"4\":21.0,\"5\":96,\"6\":1.54,\"7\":0.5,\"8\":0.53,\"9\":0.75,\"10\":4.6,\"11\":0.77,\"12\":2.31,\"13\":600},{\"Unnamed: 0.4\":141,\"Unnamed: 0.3\":141,\"Unnamed: 0.2\":141,\"Unnamed: 0.1\":141,\"Unnamed: 0\":141,\"0\":3,\"1\":13.36,\"2\":2.56,\"3\":2.35,\"4\":20.0,\"5\":89,\"6\":1.4,\"7\":0.5,\"8\":0.37,\"9\":0.64,\"10\":5.6,\"11\":0.7,\"12\":2.47,\"13\":780},{\"Unnamed: 0.4\":142,\"Unnamed: 0.3\":142,\"Unnamed: 0.2\":142,\"Unnamed: 0.1\":142,\"Unnamed: 0\":142,\"0\":3,\"1\":13.52,\"2\":3.17,\"3\":2.72,\"4\":23.5,\"5\":97,\"6\":1.55,\"7\":0.52,\"8\":0.5,\"9\":0.55,\"10\":4.35,\"11\":0.89,\"12\":2.06,\"13\":520},{\"Unnamed: 0.4\":143,\"Unnamed: 0.3\":143,\"Unnamed: 0.2\":143,\"Unnamed: 0.1\":143,\"Unnamed: 0\":143,\"0\":3,\"1\":13.62,\"2\":4.95,\"3\":2.35,\"4\":20.0,\"5\":92,\"6\":2.0,\"7\":0.8,\"8\":0.47,\"9\":1.02,\"10\":4.4,\"11\":0.91,\"12\":2.05,\"13\":550},{\"Unnamed: 0.4\":144,\"Unnamed: 0.3\":144,\"Unnamed: 0.2\":144,\"Unnamed: 0.1\":144,\"Unnamed: 0\":144,\"0\":3,\"1\":12.25,\"2\":3.88,\"3\":2.2,\"4\":18.5,\"5\":112,\"6\":1.38,\"7\":0.78,\"8\":0.29,\"9\":1.14,\"10\":8.21,\"11\":0.65,\"12\":2.0,\"13\":855},{\"Unnamed: 0.4\":145,\"Unnamed: 0.3\":145,\"Unnamed: 0.2\":145,\"Unnamed: 0.1\":145,\"Unnamed: 0\":145,\"0\":3,\"1\":13.16,\"2\":3.57,\"3\":2.15,\"4\":21.0,\"5\":102,\"6\":1.5,\"7\":0.55,\"8\":0.43,\"9\":1.3,\"10\":4.0,\"11\":0.6,\"12\":1.68,\"13\":830},{\"Unnamed: 0.4\":146,\"Unnamed: 0.3\":146,\"Unnamed: 0.2\":146,\"Unnamed: 0.1\":146,\"Unnamed: 0\":146,\"0\":3,\"1\":13.88,\"2\":5.04,\"3\":2.23,\"4\":20.0,\"5\":80,\"6\":0.98,\"7\":0.34,\"8\":0.4,\"9\":0.68,\"10\":4.9,\"11\":0.58,\"12\":1.33,\"13\":415},{\"Unnamed: 0.4\":147,\"Unnamed: 0.3\":147,\"Unnamed: 0.2\":147,\"Unnamed: 0.1\":147,\"Unnamed: 0\":147,\"0\":3,\"1\":12.87,\"2\":4.61,\"3\":2.48,\"4\":21.5,\"5\":86,\"6\":1.7,\"7\":0.65,\"8\":0.47,\"9\":0.86,\"10\":7.65,\"11\":0.54,\"12\":1.86,\"13\":625},{\"Unnamed: 0.4\":148,\"Unnamed: 0.3\":148,\"Unnamed: 0.2\":148,\"Unnamed: 0.1\":148,\"Unnamed: 0\":148,\"0\":3,\"1\":13.32,\"2\":3.24,\"3\":2.38,\"4\":21.5,\"5\":92,\"6\":1.93,\"7\":0.76,\"8\":0.45,\"9\":1.25,\"10\":8.42,\"11\":0.55,\"12\":1.62,\"13\":650},{\"Unnamed: 0.4\":149,\"Unnamed: 0.3\":149,\"Unnamed: 0.2\":149,\"Unnamed: 0.1\":149,\"Unnamed: 0\":149,\"0\":3,\"1\":13.08,\"2\":3.9,\"3\":2.36,\"4\":21.5,\"5\":113,\"6\":1.41,\"7\":1.39,\"8\":0.34,\"9\":1.14,\"10\":9.4,\"11\":0.57,\"12\":1.33,\"13\":550},{\"Unnamed: 0.4\":150,\"Unnamed: 0.3\":150,\"Unnamed: 0.2\":150,\"Unnamed: 0.1\":150,\"Unnamed: 0\":150,\"0\":3,\"1\":13.5,\"2\":3.12,\"3\":2.62,\"4\":24.0,\"5\":123,\"6\":1.4,\"7\":1.57,\"8\":0.22,\"9\":1.25,\"10\":8.6,\"11\":0.59,\"12\":1.3,\"13\":500},{\"Unnamed: 0.4\":151,\"Unnamed: 0.3\":151,\"Unnamed: 0.2\":151,\"Unnamed: 0.1\":151,\"Unnamed: 0\":151,\"0\":3,\"1\":12.79,\"2\":2.67,\"3\":2.48,\"4\":22.0,\"5\":112,\"6\":1.48,\"7\":1.36,\"8\":0.24,\"9\":1.26,\"10\":10.8,\"11\":0.48,\"12\":1.47,\"13\":480},{\"Unnamed: 0.4\":152,\"Unnamed: 0.3\":152,\"Unnamed: 0.2\":152,\"Unnamed: 0.1\":152,\"Unnamed: 0\":152,\"0\":3,\"1\":13.11,\"2\":1.9,\"3\":2.75,\"4\":25.5,\"5\":116,\"6\":2.2,\"7\":1.28,\"8\":0.26,\"9\":1.56,\"10\":7.1,\"11\":0.61,\"12\":1.33,\"13\":425},{\"Unnamed: 0.4\":153,\"Unnamed: 0.3\":153,\"Unnamed: 0.2\":153,\"Unnamed: 0.1\":153,\"Unnamed: 0\":153,\"0\":3,\"1\":13.23,\"2\":3.3,\"3\":2.28,\"4\":18.5,\"5\":98,\"6\":1.8,\"7\":0.83,\"8\":0.61,\"9\":1.87,\"10\":10.52,\"11\":0.56,\"12\":1.51,\"13\":675},{\"Unnamed: 0.4\":154,\"Unnamed: 0.3\":154,\"Unnamed: 0.2\":154,\"Unnamed: 0.1\":154,\"Unnamed: 0\":154,\"0\":3,\"1\":12.58,\"2\":1.29,\"3\":2.1,\"4\":20.0,\"5\":103,\"6\":1.48,\"7\":0.58,\"8\":0.53,\"9\":1.4,\"10\":7.6,\"11\":0.58,\"12\":1.55,\"13\":640},{\"Unnamed: 0.4\":155,\"Unnamed: 0.3\":155,\"Unnamed: 0.2\":155,\"Unnamed: 0.1\":155,\"Unnamed: 0\":155,\"0\":3,\"1\":13.17,\"2\":5.19,\"3\":2.32,\"4\":22.0,\"5\":93,\"6\":1.74,\"7\":0.63,\"8\":0.61,\"9\":1.55,\"10\":7.9,\"11\":0.6,\"12\":1.48,\"13\":725},{\"Unnamed: 0.4\":156,\"Unnamed: 0.3\":156,\"Unnamed: 0.2\":156,\"Unnamed: 0.1\":156,\"Unnamed: 0\":156,\"0\":3,\"1\":13.84,\"2\":4.12,\"3\":2.38,\"4\":19.5,\"5\":89,\"6\":1.8,\"7\":0.83,\"8\":0.48,\"9\":1.56,\"10\":9.01,\"11\":0.57,\"12\":1.64,\"13\":480},{\"Unnamed: 0.4\":157,\"Unnamed: 0.3\":157,\"Unnamed: 0.2\":157,\"Unnamed: 0.1\":157,\"Unnamed: 0\":157,\"0\":3,\"1\":12.45,\"2\":3.03,\"3\":2.64,\"4\":27.0,\"5\":97,\"6\":1.9,\"7\":0.58,\"8\":0.63,\"9\":1.14,\"10\":7.5,\"11\":0.67,\"12\":1.73,\"13\":880},{\"Unnamed: 0.4\":158,\"Unnamed: 0.3\":158,\"Unnamed: 0.2\":158,\"Unnamed: 0.1\":158,\"Unnamed: 0\":158,\"0\":3,\"1\":14.34,\"2\":1.68,\"3\":2.7,\"4\":25.0,\"5\":98,\"6\":2.8,\"7\":1.31,\"8\":0.53,\"9\":2.7,\"10\":13.0,\"11\":0.57,\"12\":1.96,\"13\":660},{\"Unnamed: 0.4\":159,\"Unnamed: 0.3\":159,\"Unnamed: 0.2\":159,\"Unnamed: 0.1\":159,\"Unnamed: 0\":159,\"0\":3,\"1\":13.48,\"2\":1.67,\"3\":2.64,\"4\":22.5,\"5\":89,\"6\":2.6,\"7\":1.1,\"8\":0.52,\"9\":2.29,\"10\":11.75,\"11\":0.57,\"12\":1.78,\"13\":620},{\"Unnamed: 0.4\":160,\"Unnamed: 0.3\":160,\"Unnamed: 0.2\":160,\"Unnamed: 0.1\":160,\"Unnamed: 0\":160,\"0\":3,\"1\":12.36,\"2\":3.83,\"3\":2.38,\"4\":21.0,\"5\":88,\"6\":2.3,\"7\":0.92,\"8\":0.5,\"9\":1.04,\"10\":7.65,\"11\":0.56,\"12\":1.58,\"13\":520},{\"Unnamed: 0.4\":161,\"Unnamed: 0.3\":161,\"Unnamed: 0.2\":161,\"Unnamed: 0.1\":161,\"Unnamed: 0\":161,\"0\":3,\"1\":13.69,\"2\":3.26,\"3\":2.54,\"4\":20.0,\"5\":107,\"6\":1.83,\"7\":0.56,\"8\":0.5,\"9\":0.8,\"10\":5.88,\"11\":0.96,\"12\":1.82,\"13\":680},{\"Unnamed: 0.4\":162,\"Unnamed: 0.3\":162,\"Unnamed: 0.2\":162,\"Unnamed: 0.1\":162,\"Unnamed: 0\":162,\"0\":3,\"1\":12.85,\"2\":3.27,\"3\":2.58,\"4\":22.0,\"5\":106,\"6\":1.65,\"7\":0.6,\"8\":0.6,\"9\":0.96,\"10\":5.58,\"11\":0.87,\"12\":2.11,\"13\":570},{\"Unnamed: 0.4\":163,\"Unnamed: 0.3\":163,\"Unnamed: 0.2\":163,\"Unnamed: 0.1\":163,\"Unnamed: 0\":163,\"0\":3,\"1\":12.96,\"2\":3.45,\"3\":2.35,\"4\":18.5,\"5\":106,\"6\":1.39,\"7\":0.7,\"8\":0.4,\"9\":0.94,\"10\":5.28,\"11\":0.68,\"12\":1.75,\"13\":675},{\"Unnamed: 0.4\":164,\"Unnamed: 0.3\":164,\"Unnamed: 0.2\":164,\"Unnamed: 0.1\":164,\"Unnamed: 0\":164,\"0\":3,\"1\":13.78,\"2\":2.76,\"3\":2.3,\"4\":22.0,\"5\":90,\"6\":1.35,\"7\":0.68,\"8\":0.41,\"9\":1.03,\"10\":9.58,\"11\":0.7,\"12\":1.68,\"13\":615},{\"Unnamed: 0.4\":165,\"Unnamed: 0.3\":165,\"Unnamed: 0.2\":165,\"Unnamed: 0.1\":165,\"Unnamed: 0\":165,\"0\":3,\"1\":13.73,\"2\":4.36,\"3\":2.26,\"4\":22.5,\"5\":88,\"6\":1.28,\"7\":0.47,\"8\":0.52,\"9\":1.15,\"10\":6.62,\"11\":0.78,\"12\":1.75,\"13\":520},{\"Unnamed: 0.4\":166,\"Unnamed: 0.3\":166,\"Unnamed: 0.2\":166,\"Unnamed: 0.1\":166,\"Unnamed: 0\":166,\"0\":3,\"1\":13.45,\"2\":3.7,\"3\":2.6,\"4\":23.0,\"5\":111,\"6\":1.7,\"7\":0.92,\"8\":0.43,\"9\":1.46,\"10\":10.68,\"11\":0.85,\"12\":1.56,\"13\":695},{\"Unnamed: 0.4\":167,\"Unnamed: 0.3\":167,\"Unnamed: 0.2\":167,\"Unnamed: 0.1\":167,\"Unnamed: 0\":167,\"0\":3,\"1\":12.82,\"2\":3.37,\"3\":2.3,\"4\":19.5,\"5\":88,\"6\":1.48,\"7\":0.66,\"8\":0.4,\"9\":0.97,\"10\":10.26,\"11\":0.72,\"12\":1.75,\"13\":685},{\"Unnamed: 0.4\":168,\"Unnamed: 0.3\":168,\"Unnamed: 0.2\":168,\"Unnamed: 0.1\":168,\"Unnamed: 0\":168,\"0\":3,\"1\":13.58,\"2\":2.58,\"3\":2.69,\"4\":24.5,\"5\":105,\"6\":1.55,\"7\":0.84,\"8\":0.39,\"9\":1.54,\"10\":8.66,\"11\":0.74,\"12\":1.8,\"13\":750},{\"Unnamed: 0.4\":169,\"Unnamed: 0.3\":169,\"Unnamed: 0.2\":169,\"Unnamed: 0.1\":169,\"Unnamed: 0\":169,\"0\":3,\"1\":13.4,\"2\":4.6,\"3\":2.86,\"4\":25.0,\"5\":112,\"6\":1.98,\"7\":0.96,\"8\":0.27,\"9\":1.11,\"10\":8.5,\"11\":0.67,\"12\":1.92,\"13\":630},{\"Unnamed: 0.4\":170,\"Unnamed: 0.3\":170,\"Unnamed: 0.2\":170,\"Unnamed: 0.1\":170,\"Unnamed: 0\":170,\"0\":3,\"1\":12.2,\"2\":3.03,\"3\":2.32,\"4\":19.0,\"5\":96,\"6\":1.25,\"7\":0.49,\"8\":0.4,\"9\":0.73,\"10\":5.5,\"11\":0.66,\"12\":1.83,\"13\":510},{\"Unnamed: 0.4\":171,\"Unnamed: 0.3\":171,\"Unnamed: 0.2\":171,\"Unnamed: 0.1\":171,\"Unnamed: 0\":171,\"0\":3,\"1\":12.77,\"2\":2.39,\"3\":2.28,\"4\":19.5,\"5\":86,\"6\":1.39,\"7\":0.51,\"8\":0.48,\"9\":0.64,\"10\":9.899999,\"11\":0.57,\"12\":1.63,\"13\":470},{\"Unnamed: 0.4\":172,\"Unnamed: 0.3\":172,\"Unnamed: 0.2\":172,\"Unnamed: 0.1\":172,\"Unnamed: 0\":172,\"0\":3,\"1\":14.16,\"2\":2.51,\"3\":2.48,\"4\":20.0,\"5\":91,\"6\":1.68,\"7\":0.7,\"8\":0.44,\"9\":1.24,\"10\":9.7,\"11\":0.62,\"12\":1.71,\"13\":660},{\"Unnamed: 0.4\":173,\"Unnamed: 0.3\":173,\"Unnamed: 0.2\":173,\"Unnamed: 0.1\":173,\"Unnamed: 0\":173,\"0\":3,\"1\":13.71,\"2\":5.65,\"3\":2.45,\"4\":20.5,\"5\":95,\"6\":1.68,\"7\":0.61,\"8\":0.52,\"9\":1.06,\"10\":7.7,\"11\":0.64,\"12\":1.74,\"13\":740},{\"Unnamed: 0.4\":174,\"Unnamed: 0.3\":174,\"Unnamed: 0.2\":174,\"Unnamed: 0.1\":174,\"Unnamed: 0\":174,\"0\":3,\"1\":13.4,\"2\":3.91,\"3\":2.48,\"4\":23.0,\"5\":102,\"6\":1.8,\"7\":0.75,\"8\":0.43,\"9\":1.41,\"10\":7.3,\"11\":0.7,\"12\":1.56,\"13\":750},{\"Unnamed: 0.4\":175,\"Unnamed: 0.3\":175,\"Unnamed: 0.2\":175,\"Unnamed: 0.1\":175,\"Unnamed: 0\":175,\"0\":3,\"1\":13.27,\"2\":4.28,\"3\":2.26,\"4\":20.0,\"5\":120,\"6\":1.59,\"7\":0.69,\"8\":0.43,\"9\":1.35,\"10\":10.2,\"11\":0.59,\"12\":1.56,\"13\":835},{\"Unnamed: 0.4\":176,\"Unnamed: 0.3\":176,\"Unnamed: 0.2\":176,\"Unnamed: 0.1\":176,\"Unnamed: 0\":176,\"0\":3,\"1\":13.17,\"2\":2.59,\"3\":2.37,\"4\":20.0,\"5\":120,\"6\":1.65,\"7\":0.68,\"8\":0.53,\"9\":1.46,\"10\":9.3,\"11\":0.6,\"12\":1.62,\"13\":840},{\"Unnamed: 0.4\":177,\"Unnamed: 0.3\":177,\"Unnamed: 0.2\":177,\"Unnamed: 0.1\":177,\"Unnamed: 0\":177,\"0\":3,\"1\":14.13,\"2\":4.1,\"3\":2.74,\"4\":24.5,\"5\":96,\"6\":2.05,\"7\":0.76,\"8\":0.56,\"9\":1.35,\"10\":9.2,\"11\":0.61,\"12\":1.6,\"13\":560}]'"
      ]
     },
     "execution_count": 33,
     "metadata": {},
     "output_type": "execute_result"
    }
   ],
   "source": [
    "df1.to_json(orient=\"records\")"
   ]
  },
  {
   "cell_type": "markdown",
   "metadata": {},
   "source": [
    "## Read HTML content"
   ]
  },
  {
   "cell_type": "code",
   "execution_count": 34,
   "metadata": {},
   "outputs": [
    {
     "name": "stdout",
     "output_type": "stream",
     "text": [
      "Requirement already satisfied: lxml in c:\\users\\lenovo\\appdata\\local\\packages\\pythonsoftwarefoundation.python.3.10_qbz5n2kfra8p0\\localcache\\local-packages\\python310\\site-packages (5.2.0)\n"
     ]
    },
    {
     "name": "stderr",
     "output_type": "stream",
     "text": [
      "WARNING: Ignoring invalid distribution -ip (c:\\users\\lenovo\\appdata\\local\\packages\\pythonsoftwarefoundation.python.3.10_qbz5n2kfra8p0\\localcache\\local-packages\\python310\\site-packages)\n",
      "WARNING: Ignoring invalid distribution -ip (c:\\users\\lenovo\\appdata\\local\\packages\\pythonsoftwarefoundation.python.3.10_qbz5n2kfra8p0\\localcache\\local-packages\\python310\\site-packages)\n",
      "WARNING: Ignoring invalid distribution -ip (c:\\users\\lenovo\\appdata\\local\\packages\\pythonsoftwarefoundation.python.3.10_qbz5n2kfra8p0\\localcache\\local-packages\\python310\\site-packages)\n",
      "WARNING: Ignoring invalid distribution -ip (c:\\users\\lenovo\\appdata\\local\\packages\\pythonsoftwarefoundation.python.3.10_qbz5n2kfra8p0\\localcache\\local-packages\\python310\\site-packages)\n"
     ]
    }
   ],
   "source": [
    "!pip3 install lxml"
   ]
  },
  {
   "cell_type": "code",
   "execution_count": 36,
   "metadata": {},
   "outputs": [],
   "source": [
    "url = 'https://www.fdic.gov/resources/resolutions/bank-failures/failed-bank-list/'\n",
    "dfs = pd.read_html(url)"
   ]
  },
  {
   "cell_type": "code",
   "execution_count": 37,
   "metadata": {},
   "outputs": [
    {
     "data": {
      "text/html": [
       "<div>\n",
       "<style scoped>\n",
       "    .dataframe tbody tr th:only-of-type {\n",
       "        vertical-align: middle;\n",
       "    }\n",
       "\n",
       "    .dataframe tbody tr th {\n",
       "        vertical-align: top;\n",
       "    }\n",
       "\n",
       "    .dataframe thead th {\n",
       "        text-align: right;\n",
       "    }\n",
       "</style>\n",
       "<table border=\"1\" class=\"dataframe\">\n",
       "  <thead>\n",
       "    <tr style=\"text-align: right;\">\n",
       "      <th></th>\n",
       "      <th>Bank NameBank</th>\n",
       "      <th>CityCity</th>\n",
       "      <th>StateSt</th>\n",
       "      <th>CertCert</th>\n",
       "      <th>Acquiring InstitutionAI</th>\n",
       "      <th>Closing DateClosing</th>\n",
       "      <th>FundFund</th>\n",
       "    </tr>\n",
       "  </thead>\n",
       "  <tbody>\n",
       "    <tr>\n",
       "      <th>0</th>\n",
       "      <td>Citizens Bank</td>\n",
       "      <td>Sac City</td>\n",
       "      <td>IA</td>\n",
       "      <td>8758</td>\n",
       "      <td>Iowa Trust &amp; Savings Bank</td>\n",
       "      <td>November 3, 2023</td>\n",
       "      <td>10545</td>\n",
       "    </tr>\n",
       "    <tr>\n",
       "      <th>1</th>\n",
       "      <td>Heartland Tri-State Bank</td>\n",
       "      <td>Elkhart</td>\n",
       "      <td>KS</td>\n",
       "      <td>25851</td>\n",
       "      <td>Dream First Bank, N.A.</td>\n",
       "      <td>July 28, 2023</td>\n",
       "      <td>10544</td>\n",
       "    </tr>\n",
       "    <tr>\n",
       "      <th>2</th>\n",
       "      <td>First Republic Bank</td>\n",
       "      <td>San Francisco</td>\n",
       "      <td>CA</td>\n",
       "      <td>59017</td>\n",
       "      <td>JPMorgan Chase Bank, N.A.</td>\n",
       "      <td>May 1, 2023</td>\n",
       "      <td>10543</td>\n",
       "    </tr>\n",
       "    <tr>\n",
       "      <th>3</th>\n",
       "      <td>Signature Bank</td>\n",
       "      <td>New York</td>\n",
       "      <td>NY</td>\n",
       "      <td>57053</td>\n",
       "      <td>Flagstar Bank, N.A.</td>\n",
       "      <td>March 12, 2023</td>\n",
       "      <td>10540</td>\n",
       "    </tr>\n",
       "    <tr>\n",
       "      <th>4</th>\n",
       "      <td>Silicon Valley Bank</td>\n",
       "      <td>Santa Clara</td>\n",
       "      <td>CA</td>\n",
       "      <td>24735</td>\n",
       "      <td>First–Citizens Bank &amp; Trust Company</td>\n",
       "      <td>March 10, 2023</td>\n",
       "      <td>10539</td>\n",
       "    </tr>\n",
       "    <tr>\n",
       "      <th>...</th>\n",
       "      <td>...</td>\n",
       "      <td>...</td>\n",
       "      <td>...</td>\n",
       "      <td>...</td>\n",
       "      <td>...</td>\n",
       "      <td>...</td>\n",
       "      <td>...</td>\n",
       "    </tr>\n",
       "    <tr>\n",
       "      <th>563</th>\n",
       "      <td>Superior Bank, FSB</td>\n",
       "      <td>Hinsdale</td>\n",
       "      <td>IL</td>\n",
       "      <td>32646</td>\n",
       "      <td>Superior Federal, FSB</td>\n",
       "      <td>July 27, 2001</td>\n",
       "      <td>6004</td>\n",
       "    </tr>\n",
       "    <tr>\n",
       "      <th>564</th>\n",
       "      <td>Malta National Bank</td>\n",
       "      <td>Malta</td>\n",
       "      <td>OH</td>\n",
       "      <td>6629</td>\n",
       "      <td>North Valley Bank</td>\n",
       "      <td>May 3, 2001</td>\n",
       "      <td>4648</td>\n",
       "    </tr>\n",
       "    <tr>\n",
       "      <th>565</th>\n",
       "      <td>First Alliance Bank &amp; Trust Co.</td>\n",
       "      <td>Manchester</td>\n",
       "      <td>NH</td>\n",
       "      <td>34264</td>\n",
       "      <td>Southern New Hampshire Bank &amp; Trust</td>\n",
       "      <td>February 2, 2001</td>\n",
       "      <td>4647</td>\n",
       "    </tr>\n",
       "    <tr>\n",
       "      <th>566</th>\n",
       "      <td>National State Bank of Metropolis</td>\n",
       "      <td>Metropolis</td>\n",
       "      <td>IL</td>\n",
       "      <td>3815</td>\n",
       "      <td>Banterra Bank of Marion</td>\n",
       "      <td>December 14, 2000</td>\n",
       "      <td>4646</td>\n",
       "    </tr>\n",
       "    <tr>\n",
       "      <th>567</th>\n",
       "      <td>Bank of Honolulu</td>\n",
       "      <td>Honolulu</td>\n",
       "      <td>HI</td>\n",
       "      <td>21029</td>\n",
       "      <td>Bank of the Orient</td>\n",
       "      <td>October 13, 2000</td>\n",
       "      <td>4645</td>\n",
       "    </tr>\n",
       "  </tbody>\n",
       "</table>\n",
       "<p>568 rows × 7 columns</p>\n",
       "</div>"
      ],
      "text/plain": [
       "                         Bank NameBank       CityCity StateSt  CertCert  \\\n",
       "0                        Citizens Bank       Sac City      IA      8758   \n",
       "1             Heartland Tri-State Bank        Elkhart      KS     25851   \n",
       "2                  First Republic Bank  San Francisco      CA     59017   \n",
       "3                       Signature Bank       New York      NY     57053   \n",
       "4                  Silicon Valley Bank    Santa Clara      CA     24735   \n",
       "..                                 ...            ...     ...       ...   \n",
       "563                 Superior Bank, FSB       Hinsdale      IL     32646   \n",
       "564                Malta National Bank          Malta      OH      6629   \n",
       "565    First Alliance Bank & Trust Co.     Manchester      NH     34264   \n",
       "566  National State Bank of Metropolis     Metropolis      IL      3815   \n",
       "567                   Bank of Honolulu       Honolulu      HI     21029   \n",
       "\n",
       "                 Acquiring InstitutionAI Closing DateClosing  FundFund  \n",
       "0              Iowa Trust & Savings Bank    November 3, 2023     10545  \n",
       "1                 Dream First Bank, N.A.       July 28, 2023     10544  \n",
       "2              JPMorgan Chase Bank, N.A.         May 1, 2023     10543  \n",
       "3                    Flagstar Bank, N.A.      March 12, 2023     10540  \n",
       "4    First–Citizens Bank & Trust Company      March 10, 2023     10539  \n",
       "..                                   ...                 ...       ...  \n",
       "563                Superior Federal, FSB       July 27, 2001      6004  \n",
       "564                    North Valley Bank         May 3, 2001      4648  \n",
       "565  Southern New Hampshire Bank & Trust    February 2, 2001      4647  \n",
       "566              Banterra Bank of Marion   December 14, 2000      4646  \n",
       "567                   Bank of the Orient    October 13, 2000      4645  \n",
       "\n",
       "[568 rows x 7 columns]"
      ]
     },
     "execution_count": 37,
     "metadata": {},
     "output_type": "execute_result"
    }
   ],
   "source": [
    "dfs[0]"
   ]
  },
  {
   "cell_type": "code",
   "execution_count": 38,
   "metadata": {},
   "outputs": [
    {
     "data": {
      "text/plain": [
       "list"
      ]
     },
     "execution_count": 38,
     "metadata": {},
     "output_type": "execute_result"
    }
   ],
   "source": [
    "type(dfs)"
   ]
  },
  {
   "cell_type": "markdown",
   "metadata": {},
   "source": [
    "## Reading EXCEL files"
   ]
  },
  {
   "cell_type": "code",
   "execution_count": 39,
   "metadata": {},
   "outputs": [],
   "source": [
    "df_excel = pd.read_excel('Excel_Sample.xlsx')"
   ]
  },
  {
   "cell_type": "code",
   "execution_count": 40,
   "metadata": {},
   "outputs": [
    {
     "data": {
      "text/html": [
       "<div>\n",
       "<style scoped>\n",
       "    .dataframe tbody tr th:only-of-type {\n",
       "        vertical-align: middle;\n",
       "    }\n",
       "\n",
       "    .dataframe tbody tr th {\n",
       "        vertical-align: top;\n",
       "    }\n",
       "\n",
       "    .dataframe thead th {\n",
       "        text-align: right;\n",
       "    }\n",
       "</style>\n",
       "<table border=\"1\" class=\"dataframe\">\n",
       "  <thead>\n",
       "    <tr style=\"text-align: right;\">\n",
       "      <th></th>\n",
       "      <th>Unnamed: 0</th>\n",
       "      <th>a</th>\n",
       "      <th>b</th>\n",
       "      <th>c</th>\n",
       "      <th>d</th>\n",
       "    </tr>\n",
       "  </thead>\n",
       "  <tbody>\n",
       "    <tr>\n",
       "      <th>0</th>\n",
       "      <td>0</td>\n",
       "      <td>0</td>\n",
       "      <td>1</td>\n",
       "      <td>2</td>\n",
       "      <td>3</td>\n",
       "    </tr>\n",
       "    <tr>\n",
       "      <th>1</th>\n",
       "      <td>1</td>\n",
       "      <td>4</td>\n",
       "      <td>5</td>\n",
       "      <td>6</td>\n",
       "      <td>7</td>\n",
       "    </tr>\n",
       "    <tr>\n",
       "      <th>2</th>\n",
       "      <td>2</td>\n",
       "      <td>8</td>\n",
       "      <td>9</td>\n",
       "      <td>10</td>\n",
       "      <td>11</td>\n",
       "    </tr>\n",
       "    <tr>\n",
       "      <th>3</th>\n",
       "      <td>3</td>\n",
       "      <td>12</td>\n",
       "      <td>13</td>\n",
       "      <td>14</td>\n",
       "      <td>15</td>\n",
       "    </tr>\n",
       "  </tbody>\n",
       "</table>\n",
       "</div>"
      ],
      "text/plain": [
       "   Unnamed: 0   a   b   c   d\n",
       "0           0   0   1   2   3\n",
       "1           1   4   5   6   7\n",
       "2           2   8   9  10  11\n",
       "3           3  12  13  14  15"
      ]
     },
     "execution_count": 40,
     "metadata": {},
     "output_type": "execute_result"
    }
   ],
   "source": [
    "df_excel.head()"
   ]
  },
  {
   "cell_type": "markdown",
   "metadata": {},
   "source": [
    "## Pickling\n",
    "\n",
    "All pandas objects are equiped with to_pickle methods which use python's pickle module to save data structures to disk using the pickle format."
   ]
  },
  {
   "cell_type": "code",
   "execution_count": 41,
   "metadata": {},
   "outputs": [],
   "source": [
    "df_excel.to_pickle('df_excel')"
   ]
  },
  {
   "cell_type": "code",
   "execution_count": 42,
   "metadata": {},
   "outputs": [],
   "source": [
    "df2 = pd.read_pickle('df_excel')"
   ]
  },
  {
   "cell_type": "code",
   "execution_count": 43,
   "metadata": {},
   "outputs": [
    {
     "data": {
      "text/html": [
       "<div>\n",
       "<style scoped>\n",
       "    .dataframe tbody tr th:only-of-type {\n",
       "        vertical-align: middle;\n",
       "    }\n",
       "\n",
       "    .dataframe tbody tr th {\n",
       "        vertical-align: top;\n",
       "    }\n",
       "\n",
       "    .dataframe thead th {\n",
       "        text-align: right;\n",
       "    }\n",
       "</style>\n",
       "<table border=\"1\" class=\"dataframe\">\n",
       "  <thead>\n",
       "    <tr style=\"text-align: right;\">\n",
       "      <th></th>\n",
       "      <th>Unnamed: 0</th>\n",
       "      <th>a</th>\n",
       "      <th>b</th>\n",
       "      <th>c</th>\n",
       "      <th>d</th>\n",
       "    </tr>\n",
       "  </thead>\n",
       "  <tbody>\n",
       "    <tr>\n",
       "      <th>0</th>\n",
       "      <td>0</td>\n",
       "      <td>0</td>\n",
       "      <td>1</td>\n",
       "      <td>2</td>\n",
       "      <td>3</td>\n",
       "    </tr>\n",
       "    <tr>\n",
       "      <th>1</th>\n",
       "      <td>1</td>\n",
       "      <td>4</td>\n",
       "      <td>5</td>\n",
       "      <td>6</td>\n",
       "      <td>7</td>\n",
       "    </tr>\n",
       "    <tr>\n",
       "      <th>2</th>\n",
       "      <td>2</td>\n",
       "      <td>8</td>\n",
       "      <td>9</td>\n",
       "      <td>10</td>\n",
       "      <td>11</td>\n",
       "    </tr>\n",
       "    <tr>\n",
       "      <th>3</th>\n",
       "      <td>3</td>\n",
       "      <td>12</td>\n",
       "      <td>13</td>\n",
       "      <td>14</td>\n",
       "      <td>15</td>\n",
       "    </tr>\n",
       "  </tbody>\n",
       "</table>\n",
       "</div>"
      ],
      "text/plain": [
       "   Unnamed: 0   a   b   c   d\n",
       "0           0   0   1   2   3\n",
       "1           1   4   5   6   7\n",
       "2           2   8   9  10  11\n",
       "3           3  12  13  14  15"
      ]
     },
     "execution_count": 43,
     "metadata": {},
     "output_type": "execute_result"
    }
   ],
   "source": [
    "df2"
   ]
  }
 ],
 "metadata": {
  "kernelspec": {
   "display_name": "Python 3",
   "language": "python",
   "name": "python3"
  },
  "language_info": {
   "codemirror_mode": {
    "name": "ipython",
    "version": 3
   },
   "file_extension": ".py",
   "mimetype": "text/x-python",
   "name": "python",
   "nbconvert_exporter": "python",
   "pygments_lexer": "ipython3",
   "version": "3.10.11"
  }
 },
 "nbformat": 4,
 "nbformat_minor": 2
}
